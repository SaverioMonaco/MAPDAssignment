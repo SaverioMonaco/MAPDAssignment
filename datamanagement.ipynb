{
 "cells": [
  {
   "cell_type": "markdown",
   "id": "3b3c30c7-4739-4703-9c2d-c111a2cf8ae7",
   "metadata": {},
   "source": [
    "# Final assignment of “Management and Analysis of Physics Datasets”- Part 2"
   ]
  },
  {
   "cell_type": "markdown",
   "id": "b40421b7-e379-41ea-ad66-5ed2dc455833",
   "metadata": {},
   "source": [
    "## Fun Exercise  \n",
    "You might have seen this kind of puzzles on social media. It should be straight-forward for you to understand which operations connect the two numbers  before the '=' sign. What is the result of the $\\boldsymbol{?}$ field? Show proof for each line!\n",
    "\n",
    "$$\\begin{align}& 1 + 2 = 3 \\\\ & 2 + 3 = 5 \\\\ & 3 + 7 = 4 \\\\ & 4 + 5 = \\space\\boldsymbol{?} \\\\ & 5 + 9 = 12\\end{align}$$"
   ]
  },
  {
   "cell_type": "markdown",
   "id": "63798f01-361d-45ad-acf7-22a3730ae99d",
   "metadata": {},
   "source": [
    "## 1 Redundancy\n",
    "We  are  programming  a  file  based  RAID-4  software  algorithm.  For  this purpose  we  are  converting  a  single  input  (**raid4.input**)  file  into  four  data files ```raid4.0,raid4.1,raid4.2,raid4.3 ```   and  one  parity  file  ```raid4.4``` -  the four data and one parity file we call ‘stripe files’. \n",
    "\n",
    "The input file can be downloaded from: \n",
    "http://apeters.web.cern.ch/apeters/pd2021/raid4.input\n",
    "\n",
    "To do this we are reading in a loop sequentially blocks of four bytes from the input file until the whole file is read:\n",
    "* in  each  loop  we  write  one  of  the  four  read  bytes  round-robin  to  each  data  file, compute  the  parity  of  the  four  input  bytes  and  write  the  result  into  the  fifth parity file.  ( see the drawing for better understanding ) \n",
    "\n",
    "* we continue until all input data has been read. If the last bytes read from the input file  are  not  filling  four  bytes,  we  consider  the  missing  bytes  as  zero  for  the  parity computation.\n",
    "\n",
    "#### Input File (horizontal)\n",
    "**raid4.input - total size 170619 bytes**<br>\n",
    "(number in cell = byte offset in file)\n",
    "\n",
    "| 0 | 1 | 2 | 3 | 4 | 5 | 6 | 7 | 8 | 9 | 10 | 11 | 12 | ... | ... | 170618 | \n",
    "|---|---|---|---|---|---|---|---|---|---|---|---|---|---|---|---|\n",
    "\n",
    "#### Output File (vertical)\n",
    "(number in cell = byte offset in file, p0,1,2... are the row-wise parities)\n",
    "\n",
    "| raid4.0 | raid4.1 | raid4.2 | raid4.3 | raid4.4 |\n",
    "|---|---|---|---|---|\n",
    "| 0 | 1 | 2 | 3 | p0 |\n",
    "| 4 | 5 | 6 | 7 | p1 |\n",
    "| 8 | 9 | 10 | 11 | p2 |\n",
    "| 12 | 13 | 14 | 15 | p3 |\n",
    "| ... | ... | ... | ... | ... |\n",
    "\n",
    "#### Stripe parity\n",
    "(column wise parity)\n",
    "\n",
    "| q0=0^4^8^12 | q1 | q2 | q3 | q4 |\n",
    "|---|---|---|---|---|"
   ]
  },
  {
   "cell_type": "markdown",
   "id": "55cbe914-aebe-4c16-bb16-6ebff150e922",
   "metadata": {},
   "source": [
    "### 1.1 Write a program (C,C++, R or Python), which produces four striped data and one parity file as described above using the given input file. \n",
    "**hint:** if you have a problem programming this yourself, you can download the core program in C++ from http://apeters.web.cern.ch/apeters/pd2021/raid4.cSee the explanations in the beginning how to compile and run it. You have to add the parity computations at the IMPLEMENT THIS sections! If you can’t compile or run it, you can still fill in the missing implementation! "
   ]
  },
  {
   "cell_type": "markdown",
   "id": "e8043e73-df8f-4759-ae19-91da5d03ca2d",
   "metadata": {},
   "source": [
    "### 1.2 Extend the program to compute additionally the parity of all bytes within one stripe file. \n",
    "You can say, that the computed column-wise parity acts as a ________  for each stripe file. Compute the size overhead by comparing the size of all 5 stripe files with the original file.  The size overhead is ________ % !"
   ]
  },
  {
   "cell_type": "markdown",
   "id": "250e9342-6b2f-4262-8b59-a1c88305a0c3",
   "metadata": {},
   "source": [
    "### 1.3 What is the 5-byte parity value if you write it it in hexadecimal format like $P^5$  =0x[q0][q1][q2][q3][q4], where the [qx] are the hexadecimal parity bytes computed by xor-ing all bytes in each stripe file.  \n",
    "A byte in hexadecimal has two digits and you should add leading 0 if necessary.<br> \n",
    "Examples:\n",
    "* a byte with contents 1 in hexadecimal is 0x01. A byte with contents 255in hexadecimal is 0xff.\n",
    "* a possible 5-byte parity would be P5 = 0 x 01 0c 1a 2f 3e"
   ]
  },
  {
   "cell_type": "markdown",
   "id": "5a8306d9-f5b8-4a1b-9083-46f8050215a6",
   "metadata": {},
   "source": [
    "### 1.4 If you create a sixth stripe file, which contains the row-wise parities of the five stripe files, what would be the contents of this file? "
   ]
  },
  {
   "cell_type": "markdown",
   "id": "a89ef80a-3e32-4607-b521-92ae755fc30d",
   "metadata": {},
   "source": [
    "Write down the equation for R, which is the XOR between all data stripes D0,D1,D2,D3 and the parity P. Remember P was the parity of D0,D1,D2,D3! Reduce the equation removing P from it to get the answer about the contents! "
   ]
  },
  {
   "cell_type": "markdown",
   "id": "59c00b0a-0f97-4756-a75a-15aac6d6dd30",
   "metadata": {},
   "source": [
    "### 1.5 After some time you recompute the 5-byte parity value as in 1.3. Now the result is $P^5$ = 0x a5 07 a0 01 9e. Something has been corrupted. You want to reconstruct the original file raid4.input using the 5 stripe files.\n",
    "Describe how you can recreate the original data file. Which stripe files do you use and how do you recreate the original data file with the correct size? "
   ]
  },
  {
   "cell_type": "markdown",
   "id": "1d2cb4f5-3dd4-40f9-96a4-0bb993ff2e26",
   "metadata": {},
   "source": [
    "## 2 Cryptography\n",
    "The Caesar cipher is named for Julius Caesar, who used an alphabet where decrypting would shift three letters to the left. A friend has emailed you the following text: K]amua!trgpy. She told you that her encryption algorithm works similar to the Caesar cipher:\n",
    "* to  each ASCI  value  of  each  letter  I  add  a  secret keyvalue.  (note that ASCII values range from 0 to 255) \n",
    "* additionally  to  make  it  more  secure  I  add  a  variable  (so  called) noncevalue to each ASCII number.\n",
    "\n",
    "The nonce start value is 5 for the first character of the message. For each following character add 1 to the nonce of the previous character, e.g. for the second letter the nonce added is 6, for the third letter it is 7 aso. "
   ]
  },
  {
   "cell_type": "code",
   "execution_count": 129,
   "id": "dca0f2b8-750f-40b4-b568-42a20385a6ec",
   "metadata": {},
   "outputs": [],
   "source": [
    "def reshift(letter,ascimin,ascimax):\n",
    "    if ord(letter) < ascimin:\n",
    "        #print(ord(letter),'->', ord(letter) - ascimin + ascimax)\n",
    "        return chr(ord(letter) - ascimin + ascimax + 1)\n",
    "    elif ord(letter) > ascimax:\n",
    "        #print(ord(letter),'->', - ascimax + ord(letter) + ascimin)\n",
    "        return chr(-ascimax + ord(letter) + ascimin - 1)\n",
    "    else:\n",
    "        return letter\n",
    "\n",
    "\n",
    "def bruteforce(mex,nonce0,shift,ascimin,ascimax):\n",
    "    word = []\n",
    "    nonce = nonce0\n",
    "    \n",
    "    for letter in mex:\n",
    "        shiftedchr = chr(ord(letter) + nonce + shift)\n",
    "        correctedshiftedchr = reshift(reshift(shiftedchr,ascimin,ascimax),ascimin,ascimax)\n",
    "        word.append(correctedshiftedchr)\n",
    "        nonce = nonce + 1\n",
    "        \n",
    "    return word"
   ]
  },
  {
   "cell_type": "code",
   "execution_count": 131,
   "id": "a81c1d37-eb83-4af5-89f1-6c8fedd9a726",
   "metadata": {},
   "outputs": [
    {
     "name": "stdout",
     "output_type": "stream",
     "text": [
      "Pchu~k,u\n",
      "Qdivl-v\n",
      "Rejwm.w\n",
      "Sfkxn/x\n",
      "Tglyo0y\n",
      "Uhmzp1",
      "z\n",
      "Vin{q2",
      "{",
      "\n",
      "Wjo|",
      "r3|\n",
      "Xkp}s4}\n",
      "Ylq~t5~\n",
      "Zmru6\n",
      "[nsv7\n",
      "\\otw8\n",
      "]pux9\n",
      "^qvy:\n",
      "_rwz;\n",
      "`sx",
      "{<",
      "\n",
      "aty|=\n",
      "buz}>\n",
      "cv{~?\n",
      "dw|@\n",
      "ex}A\n",
      "fy~B\n",
      "gzC \n",
      "h{D¡\n",
      "i|E¢\n",
      "j}",
      "F£\n",
      "k~G¤\n",
      "lH¥\n",
      "m",
      "I¦\n",
      "nJ§\n",
      "oK¨\n",
      "pL ©\n",
      "qM¡  ª\n",
      "r",
      " N¢¡¡«\n",
      "s¡O£¢¢¬\n",
      "t¢P¤££­\n",
      "u£Q¥¤¤®\n",
      "v¤R¦¥¥¯\n",
      "w¥S§¦¦°\n",
      "x¦T¨§§±\n",
      "y§U©¨¨²\n",
      "z¨Vª©©³\n",
      "{ ©W«ª ª´\n",
      "|¡ªX¬«¡«µ\n",
      "}¢«Y­¬¢¬¶\n",
      "~£¬Z®­£­·\n",
      "¤­[¯®¤®¸\n",
      "¥®\\°¯¥¯¹\n",
      "¦¯]±°¦°º\n",
      "§°^²±§±»\n",
      "¨±_³²¨²¼\n",
      "©²`´³©³½\n",
      "",
      "ª³ aµ´ª´¾\n",
      "«´¡b¶µ«µ¿\n",
      "¬µ¢c·¶¬¶À\n",
      " ­¶£d¸·­·Á\n",
      "¡®·¤e¹¸®¸Â\n",
      "¢¯¸¥fº¹¯¹Ã\n",
      "£°¹¦g»º°ºÄ\n",
      "¤±º§h¼»±»Å\n",
      " ¥²»¨i½¼²¼Æ\n",
      "¡¦³¼©j¾½³½Ç\n",
      "¢§´½ªk¿¾´¾È\n",
      "£¨µ¾«lÀ¿µ¿É\n",
      "¤©¶¿¬mÁÀ¶ÀÊ\n",
      "¥ª·À­nÂÁ·ÁË\n",
      "¦«¸Á®oÃÂ¸ÂÌ\n",
      "§¬¹Â¯pÄÃ¹ÃÍ\n",
      "¨­ºÃ°qÅÄºÄÎ\n",
      "©®»Ä±rÆÅ»ÅÏ\n",
      "ª¯¼Å²sÇÆ¼ÆÐ\n",
      "«°½Æ³tÈÇ½ÇÑ\n",
      "¬±¾Ç´uÉÈ¾ÈÒ\n",
      "­²¿ÈµvÊÉ¿ÉÓ\n",
      "®³ÀÉ¶wËÊÀÊÔ\n",
      "¯´ÁÊ·xÌËÁËÕ\n",
      "°µÂË¸yÍÌÂÌÖ\n",
      "±¶ÃÌ¹zÎÍÃÍ×\n",
      "²·ÄÍº{ÏÎÄÎØ\n",
      " ³¸ÅÎ»|ÐÏÅÏÙ\n",
      "¡´¹ÆÏ¼}ÑÐÆÐÚ\n",
      "¢µºÇÐ½~ÒÑÇÑÛ\n",
      "£¶»ÈÑ¾ÓÒÈÒÜ\n",
      "¤·¼ÉÒ¿ÔÓÉÓÝ\n",
      "¥¸½ÊÓÀÕÔÊÔÞ\n",
      "¦¹¾ËÔÁÖÕËÕß\n",
      "§º¿ÌÕÂ×ÖÌÖà\n",
      "¨»ÀÍÖÃØ×Í×á\n",
      "©¼ÁÎ×Ä",
      "ÙØÎØâ\n",
      "ª½ÂÏØÅÚÙÏÙã\n",
      "«¾ÃÐÙÆÛÚÐÚä\n",
      "¬¿ÄÑÚÇÜÛÑÛå\n",
      "­ÀÅÒÛÈÝÜÒÜæ\n",
      "®ÁÆÓÜÉÞÝÓÝç\n",
      "¯ÂÇÔÝÊßÞÔÞè\n",
      "°ÃÈÕÞËàßÕßé\n",
      "±ÄÉÖßÌáàÖàê\n",
      "²ÅÊ×àÍâá×áë\n",
      "³ÆËØáÎãâØâì\n",
      "´ÇÌÙâÏäãÙãí\n",
      "µÈÍÚãÐåäÚäî\n",
      "¶ÉÎÛäÑæåÛåï\n",
      "·ÊÏÜåÒçæÜæð\n",
      "¸ËÐÝæÓèçÝçñ\n",
      "¹ÌÑÞçÔéèÞèò\n",
      "ºÍÒßèÕêéßéó\n",
      "»ÎÓàéÖëêàêô\n",
      "¼ÏÔáê×ìëáëõ\n",
      "½ÐÕâëØíìâìö\n",
      "¾ÑÖãìÙîíãí÷\n",
      "¿Ò×äíÚïîäîø\n",
      "ÀÓØåîÛðïåïù\n",
      "ÁÔÙæïÜñðæðú\n",
      "ÂÕÚçðÝòñçñû\n",
      "ÃÖÛèñÞóòèòü\n",
      "Ä×Üéòß ôóéóý\n",
      "ÅØÝêóà¡õôêôþ\n",
      "ÆÙÞëôá¢öõëõÿ\n",
      "ÇÚßìõâ£÷öìö\u0000\n",
      "ÈÛàíöã¤ø÷í÷\u0001\n",
      "ÉÜáî÷ä¥ùøîø\u0002\n",
      "ÊÝâïøå¦úùïù\u0003\n",
      "ËÞãðùæ§ûúðú\u0004\n",
      "Ìßäñúç¨üûñû\u0005\n",
      "Íàåòûè©ýüòü\u0006\n",
      "Îáæóüéªþýóý\u0007\n",
      "Ïâçôýê«ÿþô\n",
      "Ðãèõþë¬\u0000ÿõÿ\t\n",
      "Ñäéöÿì­\u0001\u0000ö\u0000\n",
      "\n",
      "Òåê÷\u0000í®\u0002\u0001÷\u0001\u000b",
      "\n",
      "Óæëø\u0001î¯\u0003\u0002ø\u0002\f",
      "\n",
      "Ôçìù\u0002ï°\u0004\u0003ù\u0003\n",
      "Õèíú\u0003ð±\u0005\u0004ú\u0004\u000e\n",
      "Öéîû\u0004ñ²\u0006\u0005û\u0005\u000f\n",
      "×êïü\u0005ò³\u0007\u0006ü\u0006\u0010\n",
      "Øëðý\u0006ó\u0007ý\u0007\u0011\n",
      "Ùìñþ\u0007ôµ\u0012\n",
      "Úíòõ¶\n",
      "\tÿ\t\u0013\n",
      "Ûîó\u0000\tö·\u000b",
      "\n",
      "\u0000\n",
      "\u0014\n",
      "Üïô\u0001\n",
      "÷¸\f",
      "\u000b",
      "\u0001\u000b",
      "\u0015\n",
      "\f",
      "\u0002\f",
      "\u0016\u000b",
      "ø¹\n",
      "\u0017ñö\u0003\f",
      "ùº\u000e\n",
      "ú»\u000f\u000e\u0004\u000e\u0018\n",
      "àóø\u0005\u000eû¼\u0010\u000f\u0005\u000f\u0019\n",
      "áôù\u0006\u000fü½\u0011\u0010\u0006\u0010\u001a\n",
      "âõú\u0007\u0010ý¾\u0012\u0011\u0007\u0011\u001b\n",
      "ãö\u0011þ¿\u0013\u0012\u001c",
      "\n",
      "ä÷ü\t\u0012ÿÀ\u0014\u0013\t\u0013\u001d",
      "\n",
      "åøý\n",
      "\u0013\u0000Á\u0015\u0014\n",
      "\u0014\u001e",
      "\n",
      "æùþ\u000b",
      "\u0014\u0001Â\u0016\u0015\u000b",
      "\u0015\u001f\n",
      "çúÿ\f",
      "\u0015\u0002Ã\u0017\u0016\f",
      "\u0016 \n",
      "\u0017!Ä\u0018\u0017\n",
      "éü\u0001\u000e\u0017\u0004Å\u0019\u0018\u000e\u0018\"\n",
      "êý\u0002\u000f\u0018\u0005Æ\u001a\u0019\u000f\u0019#\n",
      "ëþ\u0003\u0010\u0019\u0006Ç\u001b\u001a\u0010\u001a$\n",
      "ìÿ\u0004\u0011\u001a\u0007È\u001c",
      "\u001b\u0011\u001b%\n",
      "í\u0000\u0005\u0012É\u001d",
      "\u001c",
      "\u0012\u001c",
      "&\n",
      "î\u0001\u0006\u0013\u001c",
      "\tÊ\u001e",
      "\u001d",
      "\u0013\u001d",
      "'\n",
      "ï\u0002\u0007\u0014\u001d",
      "\n",
      "Ë\u001f\u001e",
      "\u0014\u001e",
      "(\n",
      "ð\u0015\u001e",
      "\u000b",
      "Ì \u001f\u0015\u001f)\n",
      "ñ\u0004\t\u0016\u001f\f",
      "Í! \u0016 *\n",
      "ò\u0005\n",
      "Î\"!\u0017!+\n",
      "ó\u0006\u000b",
      "\u0018!\u000eÏ#\"\u0018\",\n",
      "ô\u0007\f",
      "\u0019\"\u000fÐ$#\u0019#-\n",
      "\u001a#\u0010Ñ%$\u001a$.\n",
      "ö\t\u000e\u001b$\u0011Ò&%\u001b%/\n",
      "÷\n",
      "\u000f\u001c",
      "%\u0012Ó'&\u001c",
      "&0\n",
      "ø\u000b",
      "\u0010\u001d",
      "&\u0013Ô('\u001d",
      "'1\n",
      "ù\f",
      "\u0011\u001e",
      "'\u0014Õ)(\u001e",
      "(2\n",
      "\u0012\u001f(\u0015Ö*)\u001f)3\n",
      "û\u000e\u0013 )\u0016×+* *4\n",
      "ü\u000f\u0014!*\u0017Ø,+!+5\n",
      "ý\u0010\u0015\"+\u0018Ù-,\",6\n",
      "þ\u0011\u0016#,\u0019Ú.-#-7\n",
      "ÿ\u0012\u0017$-\u001aÛ/.$.8\n",
      "\u0000\u0013\u0018%.\u001bÜ0/%/9\n",
      "\u0001\u0014\u0019&/\u001c",
      "Ý10&0:\n",
      "\u0002\u0015\u001a'0\u001d",
      "Þ21'1;\n",
      "\u0003\u0016\u001b(1\u001e",
      "ß32(2<\n",
      "\u0004\u0017\u001c",
      ")2\u001fà43)3=\n",
      "\u0005\u0018\u001d",
      "*3 á54*4>\n",
      "\u0006\u0019\u001e",
      "+4!â65+5?\n",
      "\u0007\u001a\u001f,5\"ã76,6@\n",
      "\b\u001b -6#ä87-7A\n",
      "\t\u001c",
      "!.7$å98.8B\n",
      "\n",
      "\u001d",
      "\"/8%æ:9/9C\n",
      "\u000b",
      "\u001e",
      "#09&ç;:0:D\n",
      "\f",
      "\u001f$1:'è<;1;E\n",
      " %2;(é=<2<F\n",
      "\u000e!&3<)ê>=3=G\n",
      "\u000f\"'4=*ë?>4>H\n",
      "\u0010#(5>+ì@?5?I\n",
      "\u0011$)6?,íA@6@J\n",
      "\u0012%*7@-îBA7AK\n",
      "\u0013&+8A.ïCB8BL\n",
      "\u0014',9B/ðDC9CM\n",
      "\u0015(-:C0ñED:DN\n",
      "\u0016).;D1òFE;EO\n",
      "\u0017*/<E2óGF<FP\n",
      "\u0018+0=F3ôHG=GQ\n",
      "\u0019,1>G4õIH>HR\n",
      "\u001a-2?H5öJI?IS\n",
      "\u001b.3@I6÷KJ@JT\n",
      "\u001c",
      "/4AJ7øLKAKU\n",
      "\u001d",
      "05BK8ùMLBLV\n",
      "\u001e",
      "16CL9úNMCMW\n",
      "\u001f27DM:ûONDNX\n",
      " 38EN;üPOEOY\n",
      "!49FO<ýQPFPZ\n",
      "\"5:GP=þRQGQ[\n",
      "#6;HQ>ÿSRHR\\\n",
      "$7<IR?\u0000TSIS]\n",
      "%8=JS@\u0001UTJT^\n",
      "&9>KTA\u0002VUKU_\n",
      "':?LUB\u0003WVLV`\n",
      "(;@MVC\u0004XWMWa\n",
      ")<ANWD\u0005YXNXb\n",
      "*=BOXE\u0006ZYOYc\n",
      "+>CPYF\u0007[ZPZd\n",
      ",?DQZ\\[Q[e\n",
      "-@ER[H\t]\\R\\f\n",
      ".AFS\\I\n",
      "^]S]g\n",
      "/BGT]J\u000b",
      "_^T^h\n",
      "0CHU^K\f",
      "`_U_i\n",
      "a`V`jL\n",
      "2EJW`M\u000ebaWak\n",
      "3FKXaN\u000fcbXbl\n",
      "4GLYbO\u0010dcYcm\n",
      "5HMZcP\u0011edZdn\n",
      "6IN[dQ\u0012fe[eo\n",
      "7JO\\eR\u0013gf\\fp\n",
      "8KP]fS\u0014hg]gq\n",
      "9LQ^gT\u0015ih^hr\n",
      ":MR_hU\u0016ji_is\n",
      ";NS`iV\u0017kj`jt\n",
      "<OTajW\u0018lkaku\n",
      "=PUbkX\u0019mlblv\n",
      ">QVclY\u001anmcmw\n",
      "?RWdmZ\u001bondnx\n",
      "@SXen[\u001c",
      "poeoy\n",
      "ATYfo\\\u001d",
      "qpfpz\n",
      "BUZgp]\u001e",
      "rqgq{\n",
      "CV[hq^\u001fsrhr|\n",
      "DW\\ir_ tsis}\n",
      "EX]js`!utjt~\n",
      "FY^kta\"vuku\n",
      "GZ_lub#wvlv\n",
      "H[`mvc$xwmw\n",
      "I\\anwd%yxnx\n",
      "J]boxe&zyoy\n",
      "K^cpyf'{zpz\n",
      "L_dqzg(|{q{",
      "\n",
      "M`er{h)}|r|\n",
      "Nafs|i*~}s}\n"
     ]
    }
   ],
   "source": [
    "ascimax = 255\n",
    "ascimin = 0\n",
    "mex = 'K]amua!trgpy'\n",
    "nonce0 = 5\n",
    "\n",
    "for i in range(ascimin,ascimax):\n",
    "    decrypted = bruteforce(mex,nonce0,i,ascimin,ascimax)\n",
    "    print(''.join(decrypted))"
   ]
  },
  {
   "cell_type": "markdown",
   "id": "268c0aed-7bac-4c82-a52f-dda89bf372d2",
   "metadata": {},
   "source": [
    "### 2.1 Is this symmetric or asymmetric encryption and explain why?"
   ]
  },
  {
   "cell_type": "markdown",
   "id": "821bbe7e-be9f-4517-bbfc-5d95ae048047",
   "metadata": {},
   "source": [
    "### 2.2 Write a small brute force program which tests keys from 0..255 and use a dictionary approach to figure out the original message. \n",
    "In Python you can use the ord() function to get an integer representation of a character and the chr() to retrieve a character string from an integer!"
   ]
  },
  {
   "cell_type": "markdown",
   "id": "d0cacd81-fd3c-42dc-b221-d9e79684582b",
   "metadata": {
    "tags": []
   },
   "source": [
    "What is the decryption algorithm/formula to be used?"
   ]
  },
  {
   "cell_type": "markdown",
   "id": "ea9b06dc-c146-4e00-ab35-beee7937204f",
   "metadata": {},
   "source": [
    "The used key is _____ , the original message text is ____________ ! "
   ]
  },
  {
   "cell_type": "markdown",
   "id": "9e60ae1d-611f-4ed9-ae3f-1b887bdb9663",
   "metadata": {},
   "source": [
    "## Object Storage\n",
    "In an object storage system we are mapping objects by name to locations using a hash table.  Imagine we have a system with ten hard disks (10 locations). We enumerate the location of a file using an index of the hard disk [0..9].\n",
    "\n",
    "<img src=\"https://i.ibb.co/dPLWgCs/Screenshot-at-2021-06-02-20-43-04.png\" width=\"800\" height=\"600\"/>\n",
    "\n",
    "Our hash algorithm for placement produces hashes, which are distributed uniform over the value space for a flat input key distribution.  \n",
    "\n",
    "We want now to simulate the behaviour of our hash algorithmwithout the need to actually compute any hash value.\n",
    "\n",
    "Instead  of  using  real  filenames,  which  we  would  hash  and  map  using  a hash  table  to  a  location  (as  we  did  in  the  exercise),  we  are  ‘computing’  a location for ‘any’ file by generating a random number for the location in  the  range  [0..9]  to  assign  a  file  location.  To  place  a  file  in  the  storage system  we  use  this  random  location  where  the  file  will  be  stored  and consumes space. \n",
    "\n",
    "Assume each disk has 1TB of space, we have 10TB in total.\n",
    "\n",
    "Place as many files of 10GB size as possible to hard disks choosing random locations until one hard disk is full. <br> **Hint:** a hard disk is full once you have stored hundred 10GB files."
   ]
  },
  {
   "cell_type": "markdown",
   "id": "53be49a0-8c8c-40c2-adff-8ee58671b3d6",
   "metadata": {},
   "source": [
    "### 3.1Write a program in Python, R or using ROOT, which simulates the placement of 10GB files to random locations and account the used space on each hard disk. Once the first hard disk is full, you stop to place files.\n",
    "\n",
    "Remark: the distribution changes every time if the random generator is not seeded always with the same start value. Nevertheless both ways are accepted! \n",
    "\n",
    "Possibly visualise the distribution similar to the histogram above."
   ]
  },
  {
   "cell_type": "markdown",
   "id": "bfc71a1e-f5ed-40cf-88dd-036a097a80da",
   "metadata": {},
   "source": [
    "### 3.1a How many files did you manage to place?"
   ]
  },
  {
   "cell_type": "markdown",
   "id": "2be5fc5f-beee-4e0a-bd0a-1afe51c6155f",
   "metadata": {},
   "source": [
    "### 3.1b What is the percentage of total used space on all hard disks in the moment the first disk is full?"
   ]
  },
  {
   "cell_type": "markdown",
   "id": "2a0d17f8-92e8-43be-9aae-772cd5ff8233",
   "metadata": {},
   "source": [
    "### 3.2 Repeat the same task placing 1GB files until the first hard disk is full."
   ]
  },
  {
   "cell_type": "markdown",
   "id": "aeeb8370-5cf1-4867-a7b8-1c961a0cf7f0",
   "metadata": {},
   "source": [
    "### 3.2a How many files did you manage to place?"
   ]
  },
  {
   "cell_type": "markdown",
   "id": "1f36b6ad-bbc2-44bd-b165-d6c6aa7e86f9",
   "metadata": {},
   "source": [
    "### 3.2b What is the percentage of total used space on all hard disks in the moment the first disk is full? "
   ]
  },
  {
   "cell_type": "markdown",
   "id": "b171718a-0ffd-4c3b-8544-33b79f66efd2",
   "metadata": {},
   "source": [
    "### 3.3 Based on this observation: why do you think object storage typically stores fixed size blocks of 4M and not files of GBs size as a whole? (so called block storage approach) \n",
    "\n",
    "Run the same program for 4M block sizes and demonstrate the benefits"
   ]
  },
  {
   "cell_type": "markdown",
   "id": "e6aa35d1-e6d1-4641-a970-cda8553f4a09",
   "metadata": {},
   "source": [
    "### 3.4. Compute the average used space on all hard disks and the standard deviation for the average used space for 10 GB and 1GB and 4M files. How is the standard deviation correlated to the block size and why?  If we now repeat such an experiment for many more (thousands) of hard disks, which kind of distribution do you get when you do a histogram of the used space of all hard disks? "
   ]
  },
  {
   "cell_type": "markdown",
   "id": "3be00ca9-07cc-48fa-b8db-1c3f4ae9d67b",
   "metadata": {},
   "source": [
    "## 4 Rest APIs & Block Chain Technology "
   ]
  },
  {
   "cell_type": "markdown",
   "id": "7a3a4106-b6b0-480f-9bef-ed34d4390d9b",
   "metadata": {},
   "source": [
    "Under https://pansophy.app:8443 you find a Crypto Coin Server exporting a simple Block Chain.\n",
    "\n",
    "You can open this URL in any web browser to see the current Block Chain status and the account information. At the time of writing the initial birth account of the Block Chain contained 1M coins ( “genesis” : 1000000 ) : \n",
    "\n",
    "<img src=\"https://i.ibb.co/nPNksZt/Screenshot-at-2021-06-02-21-01-56.png\" width=\"800\" height=\"600\"/>\n",
    "\n",
    "The REST responses are given in JSON format. Our REST API uses secure HTTP protocol and it is based on two HTTP methods: GET POST GET requests are used, to retrieve any kind of information, POST requests are used to change state in the server. \n",
    "\n",
    "The task is to implement a client and use a simple REST API to submit transactions to the Block Chain. Your goal is to book coins from other people’s accounts to your own account.  The server implements a Proof Of Time algorithm. To add a transaction to move coins to your account, you have to submit a merit request and you have to let time pass before you can send a claim request to execute your transaction on the Block Chain. If you claim your transaction too fast after a merit request, your request is discarded. The server enforces a Proof Of Time of a minimum of 10 seconds!\n",
    "\n",
    "(I didn't add the documentation, seems useless to report it here)"
   ]
  },
  {
   "cell_type": "markdown",
   "id": "f3e887d5-7f37-4fdf-891b-48131bc35e72",
   "metadata": {},
   "source": [
    "### 4.1.1 Use the REST API  and the curl command to transfer coins of the genesis or any other account on your own team account. \n",
    "You can use the -d option to POST a document. You have to indicate in your request, that the content type of the document is JSON. To do this you can add an HTTP header for this command  \n",
    "```curl ... -H”Content-Type: application/json” ...```\n",
    "\n",
    "If you prefer, you can use a Python program, doing the same HTTPS requests respecting Proof of Time.If you want to have some more fun, you can also load the current state into your Python script using GET requests and programatically steal from accounts which are reported. Be aware, that you can never steal the last coin of an account and if at the time of a claim there are not enough coins left on an account, your transaction is discarded.\n",
    "\n",
    "To you will have to add at least one successful transaction to the Block Chain. "
   ]
  },
  {
   "cell_type": "markdown",
   "id": "a8d00506-5d78-461e-ab48-ddd0fc86e906",
   "metadata": {},
   "source": [
    "### 4.1.2 What is the maximum number of transactions one given team can add to the Block Chain in one day? "
   ]
  },
  {
   "cell_type": "markdown",
   "id": "61faf25e-77e4-4343-aa41-c9586821de2b",
   "metadata": {},
   "source": [
    "### 4.2 The server has a function to compute a hash of a block in the Block Chain: \n",
    "<img src=\"https://i.ibb.co/Lnr32nS/Screenshot-at-2021-06-02-21-01-28.png\" width=\"800\" height=\"600\"/>"
   ]
  },
  {
   "cell_type": "markdown",
   "id": "c470a7c6-4945-46f0-bd2d-e8eb410e0333",
   "metadata": {},
   "source": [
    "### 4.2.1 Explain what this function does and why is this ‘the key’ for Block Chain technology? "
   ]
  },
  {
   "cell_type": "markdown",
   "id": "cbe07230-0871-4c1f-8494-872f9661d304",
   "metadata": {},
   "source": [
    "### 4.2.2 If you have the knowledge of the hash function, how can you validate the contents of the Block Chain you received using a GET request to make sure, nobody has tampered with it? You don’t need to implement it! Explain the algorithm to validate a Block Chain!"
   ]
  },
  {
   "cell_type": "markdown",
   "id": "4eca4b22-6fbc-45da-812e-f525a267ae4b",
   "metadata": {},
   "source": [
    "### 4.2.3 Why might the GET REST API run into scalability problems? \n",
    "Express the scalability behaviour of execution times of GET and POST requests in Big O notation in relation to the number of transactions recorded in the Block Chain! Draw execution time vs transactions for GET and POST requests. "
   ]
  },
  {
   "cell_type": "markdown",
   "id": "8e1a9a69-57ee-4cf6-999b-ef1e2a4fc622",
   "metadata": {},
   "source": [
    "### 4.2.4 If the Crypto server goes down, the way it is implemented it loses the current account balances. How can the server recompute the account balances after a restart from the saved Block Chain? "
   ]
  },
  {
   "cell_type": "markdown",
   "id": "bfa3a3d5-fb8e-4519-84dc-2bd505e37726",
   "metadata": {},
   "source": [
    "### 4.2.5 What are the advantages of using a REST API and JSON in a client-server architecture? What are possible disadvantages? "
   ]
  },
  {
   "cell_type": "code",
   "execution_count": null,
   "id": "7251de34-7a99-4897-b93c-60e69380295a",
   "metadata": {},
   "outputs": [],
   "source": []
  }
 ],
 "metadata": {
  "kernelspec": {
   "display_name": "Python 3",
   "language": "python",
   "name": "python3"
  },
  "language_info": {
   "codemirror_mode": {
    "name": "ipython",
    "version": 3
   },
   "file_extension": ".py",
   "mimetype": "text/x-python",
   "name": "python",
   "nbconvert_exporter": "python",
   "pygments_lexer": "ipython3",
   "version": "3.8.8"
  }
 },
 "nbformat": 4,
 "nbformat_minor": 5
}
