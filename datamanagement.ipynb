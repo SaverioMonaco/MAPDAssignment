{
 "cells": [
  {
   "cell_type": "markdown",
   "metadata": {},
   "source": [
    "# Final assignment of “Management and Analysis of Physics Datasets”- Part 2"
   ]
  },
  {
   "cell_type": "markdown",
   "metadata": {},
   "source": [
    "#### Gerardo Carmona\n",
    "#### Hilario Capettini\n",
    "#### Saverio Monaco"
   ]
  },
  {
   "cell_type": "markdown",
   "metadata": {},
   "source": [
    "## Fun Exercise  \n",
    "You might have seen this kind of puzzles on social media. It should be straight-forward for you to understand which operations connect the two numbers  before the '=' sign. What is the result of the $\\boldsymbol{?}$ field? Show proof for each line!\n",
    "\n",
    "$$\\begin{align*}& 1 + 2 = 3 \\\\ & 2 + 3 = 5 \\\\ & 3 + 7 = 4 \\\\ & 4 + 5 = \\space\\boldsymbol{?} \\\\ & 5 + 9 = 12\\end{align*}$$"
   ]
  },
  {
   "cell_type": "markdown",
   "metadata": {},
   "source": [
    "### SOLUTION\n",
    "If we rewrite the digits as binary, we can easily guess the actual operation:\n",
    "$$\n",
    "\\begin{align}\n",
    "1 + 2 &= 3&&: &&f(01,10)&& &&=11\\\\\n",
    "2 + 3 &= 5&&: &&f(10,11)&& &&=101\\\\\n",
    "3 + 7 &= 4&&: &&f(011,111)&& &&=100\\\\\n",
    "4 + 5 &=\\ ?&&: &&f(100,101)&& &&=\\ ?\\\\\n",
    "5 + 9 &= 12&&: &&f(0101,1001)&& &&=1100\n",
    "\\end{align}\n",
    "$$\n",
    "For all **but the second expression**, we can replace $f(a,b)$ with $a\\oplus b$, thus obtaining $100\\oplus 101 = 001 = 1$ for \"$4+5$\"."
   ]
  },
  {
   "cell_type": "code",
   "execution_count": 1,
   "metadata": {},
   "outputs": [],
   "source": [
    "#TODO: What's wrong with the second expression?"
   ]
  },
  {
   "cell_type": "markdown",
   "metadata": {},
   "source": [
    "## 1 Redundancy\n",
    "We  are  programming  a  file  based  RAID-4  software  algorithm.  For  this purpose  we  are  converting  a  single  input  (**raid4.input**)  file  into  four  data files ```raid4.0,raid4.1,raid4.2,raid4.3 ```   and  one  parity  file  ```raid4.4``` -  the four data and one parity file we call ‘stripe files’. \n",
    "\n",
    "The input file can be downloaded from: \n",
    "http://apeters.web.cern.ch/apeters/pd2021/raid4.input\n",
    "\n",
    "To do this we are reading in a loop sequentially blocks of four bytes from the input file until the whole file is read:\n",
    "* in  each  loop  we  write  one  of  the  four  read  bytes  round-robin  to  each  data  file, compute  the  parity  of  the  four  input  bytes  and  write  the  result  into  the  fifth parity file.  ( see the drawing for better understanding ) \n",
    "\n",
    "* we continue until all input data has been read. If the last bytes read from the input file  are  not  filling  four  bytes,  we  consider  the  missing  bytes  as  zero  for  the  parity computation.\n",
    "\n",
    "#### Input File (horizontal)\n",
    "**raid4.input - total size 170619 bytes**<br>\n",
    "(number in cell = byte offset in file)\n",
    "\n",
    "| 0 | 1 | 2 | 3 | 4 | 5 | 6 | 7 | 8 | 9 | 10 | 11 | 12 | ... | ... | 170618 | \n",
    "|---|---|---|---|---|---|---|---|---|---|---|---|---|---|---|---|\n",
    "\n",
    "#### Output File (vertical)\n",
    "(number in cell = byte offset in file, p0,1,2... are the row-wise parities)\n",
    "\n",
    "| raid4.0 | raid4.1 | raid4.2 | raid4.3 | raid4.4 |\n",
    "|---|---|---|---|---|\n",
    "| 0 | 1 | 2 | 3 | p0 |\n",
    "| 4 | 5 | 6 | 7 | p1 |\n",
    "| 8 | 9 | 10 | 11 | p2 |\n",
    "| 12 | 13 | 14 | 15 | p3 |\n",
    "| ... | ... | ... | ... | ... |\n",
    "\n",
    "#### Stripe parity\n",
    "(column wise parity)\n",
    "\n",
    "| q0=0^4^8^12 | q1 | q2 | q3 | q4 |\n",
    "|---|---|---|---|---|"
   ]
  },
  {
   "cell_type": "code",
   "execution_count": 1,
   "metadata": {},
   "outputs": [],
   "source": [
    "import numpy as np\n",
    "\n",
    "def get_arr(path):\n",
    "    '''Reads a file as bytes'''\n",
    "    with open(path,'r+b') as file:\n",
    "        v = np.frombuffer(file.read(),dtype = np.uint8)\n",
    "    return v\n",
    "\n",
    "\n",
    "def post_arr(arr, path):\n",
    "    '''Writes an array to a file, converting it to bytes'''\n",
    "    with open(path,'w+b') as file:\n",
    "        file.write(arr.tobytes())\n",
    "    return\n",
    "\n",
    "\n",
    "def xor_arr(matrix):\n",
    "    '''Applies the bitwise xor function to a collection of arrays, given as rows in a matrix.'''\n",
    "    # Neutral xor array\n",
    "    v = np.zeros(len(matrix[0]),dtype = np.uint8)\n",
    "    # Applying bitwise_xor between the matrix rows\n",
    "    for arr in matrix:\n",
    "        v = np.bitwise_xor(v,arr)\n",
    "    return v\n",
    "\n"
   ]
  },
  {
   "cell_type": "markdown",
   "metadata": {},
   "source": [
    "### 1.1 Write a program (C,C++, R or Python), which produces four striped data and one parity file as described above using the given input file. \n",
    "**hint:** if you have a problem programming this yourself, you can download the core program in C++ from http://apeters.web.cern.ch/apeters/pd2021/raid4.cSee the explanations in the beginning how to compile and run it. You have to add the parity computations at the IMPLEMENT THIS sections! If you can’t compile or run it, you can still fill in the missing implementation! "
   ]
  },
  {
   "cell_type": "code",
   "execution_count": 2,
   "metadata": {},
   "outputs": [
    {
     "data": {
      "text/plain": [
       "array([[ 37,  80,  68,  70],\n",
       "       [ 45,  49,  46,  51],\n",
       "       [ 10,  37, 196, 229],\n",
       "       ...,\n",
       "       [ 55,  55,  51,  55],\n",
       "       [ 10,  37,  37,  69],\n",
       "       [ 79,  70,  10,   0]], dtype=uint8)"
      ]
     },
     "execution_count": 2,
     "metadata": {},
     "output_type": "execute_result"
    }
   ],
   "source": [
    "n = 4\n",
    "src_file = 'raid4.input'\n",
    "all_bytes = get_arr(src_file)\n",
    "all_bytes\n",
    "\n",
    "# We calculate how many zeros have to be added in the end\n",
    "extra = n - len(all_bytes)%n\n",
    "bytes_arr = np.hstack([all_bytes,np.zeros(extra, dtype = np.uint8)])\n",
    "\n",
    "# Reshaping array\n",
    "nrows = len(bytes_arr)//n\n",
    "ncols = n\n",
    "bytes_arr = bytes_arr.reshape((nrows,ncols))\n",
    "## Rendered as unsigned integers of 8 bits.\n",
    "bytes_arr\n"
   ]
  },
  {
   "cell_type": "code",
   "execution_count": 3,
   "metadata": {},
   "outputs": [],
   "source": [
    "# Iterate over the columns and generate the files\n",
    "for i, v in enumerate(bytes_arr.T):\n",
    "    post_arr(v, f'raid{n}.{i}')\n",
    "\n",
    "# Evaluating parity between stripes\n",
    "row_p = xor_arr(bytes_arr.T)\n",
    "\n",
    "#Store the row parity\n",
    "post_arr(row_p,f'raid{n}.{n}')"
   ]
  },
  {
   "cell_type": "code",
   "execution_count": 4,
   "metadata": {},
   "outputs": [
    {
     "data": {
      "text/plain": [
       "array([119,   1,  14, ...,   4,  79,   3], dtype=uint8)"
      ]
     },
     "execution_count": 4,
     "metadata": {},
     "output_type": "execute_result"
    }
   ],
   "source": [
    "## Unsigned 8bit integer representation of the parity stripe\n",
    "row_p.T"
   ]
  },
  {
   "cell_type": "markdown",
   "metadata": {},
   "source": [
    "### 1.2 Extend the program to compute additionally the parity of all bytes within one stripe file. \n",
    "You can say, that the computed column-wise parity acts as a *corruption check*  for each stripe file. Compute the size overhead by comparing the size of all 5 stripe files with the original file.  The size overhead is ________ % !"
   ]
  },
  {
   "cell_type": "code",
   "execution_count": 7,
   "metadata": {},
   "outputs": [
    {
     "name": "stdout",
     "output_type": "stream",
     "text": [
      "The size overhead is 25.0%\n"
     ]
    }
   ],
   "source": [
    "# We end up with five files with the same number of bytes, which is simply the length of the arrays.\n",
    "overhead = len(row_p)*5/len(all_bytes)-1\n",
    "overhead *= 100\n",
    "print(f'The size overhead is {round(overhead,2)}%')"
   ]
  },
  {
   "cell_type": "code",
   "execution_count": 8,
   "metadata": {},
   "outputs": [],
   "source": [
    "# We now wish to generate an extra file with the parity of each column\n",
    "ext_bytes = np.vstack((bytes_arr.T, row_p)).T\n",
    "\n",
    "# Evaluating parity for each stripe\n",
    "col_p = xor_arr(ext_bytes)\n",
    "\n",
    "# Store the resulting parity\n",
    "post_arr(col_p,f'raid{n}.col')"
   ]
  },
  {
   "cell_type": "markdown",
   "metadata": {},
   "source": [
    "### 1.3 What is the 5-byte parity value if you write it it in hexadecimal format like $P^5$  =0x[q0][q1][q2][q3][q4], where the [qx] are the hexadecimal parity bytes computed by xor-ing all bytes in each stripe file.  \n",
    "A byte in hexadecimal has two digits and you should add leading 0 if necessary.<br> \n",
    "Examples:\n",
    "* a byte with contents 1 in hexadecimal is 0x01. A byte with contents 255in hexadecimal is 0xff.\n",
    "* a possible 5-byte parity would be P5 = 0 x 01 0c 1a 2f 3e"
   ]
  },
  {
   "cell_type": "code",
   "execution_count": 46,
   "metadata": {},
   "outputs": [
    {
     "name": "stdout",
     "output_type": "stream",
     "text": [
      "The 5-parity in hex format is 0xa5_07_a0_9c_9e\n"
     ]
    }
   ],
   "source": [
    "# Casting as strings the hexadecimal representation of each byte and setting to a convenient format.\n",
    "p_5 = [str(i.tobytes()).split('x')[1][:-1] for i in col_p]\n",
    "p_5 = '0x'+'_'.join(p_5)\n",
    "print(f'The 5-parity in hex format is {p_5}')"
   ]
  },
  {
   "cell_type": "markdown",
   "metadata": {},
   "source": [
    "### 1.4 If you create a sixth stripe file, which contains the row-wise parities of the five stripe files, what would be the contents of this file? "
   ]
  },
  {
   "cell_type": "markdown",
   "metadata": {},
   "source": [
    "Write down the equation for R, which is the XOR between all data stripes D0,D1,D2,D3 and the parity P. Remember P was the parity of D0,D1,D2,D3! Reduce the equation removing P from it to get the answer about the contents! "
   ]
  },
  {
   "cell_type": "markdown",
   "metadata": {},
   "source": [
    "### SOLUTION\n",
    "$$\n",
    "\\begin{align}\n",
    "R &= D_0\\oplus D_1\\oplus D_2\\oplus D_3\\oplus P\\\\\n",
    "&= P\\oplus P\\\\\n",
    "&= \\mathbf{0}\n",
    "\\end{align}\n",
    "$$\n",
    "since $a\\oplus b$ evaluates to $0$ when $a$ and $b$ have the same value, which is of course the case for every row in the expression above."
   ]
  },
  {
   "cell_type": "markdown",
   "metadata": {},
   "source": [
    "### 1.5 After some time you recompute the 5-byte parity value as in 1.3. Now the result is $P^5$ = 0x a5 07 a0 01 9e. Something has been corrupted. You want to reconstruct the original file raid4.input using the 5 stripe files.\n",
    "Describe how you can recreate the original data file. Which stripe files do you use and how do you recreate the original data file with the correct size? "
   ]
  },
  {
   "cell_type": "code",
   "execution_count": 47,
   "metadata": {},
   "outputs": [],
   "source": [
    "def correct(col_parity, new_col_parity, file_key):\n",
    "    # Both col_p and new_col_p are expected as bytes objects\n",
    "    col_p = np.frombuffer(bytes(col_parity),dtype = np.uint8)\n",
    "    new_p = np.frombuffer(new_col_parity,dtype = np.uint8)\n",
    "    mask = col_p != new_p\n",
    "\n",
    "    # How many parity values have changed?\n",
    "    wrong = np.arange(len(col_p))[mask]\n",
    "    right = np.arange(len(col_p))[~mask]\n",
    "    \n",
    "    # We cannot correct if more than one stripe is damaged or no stripe damage was detected.\n",
    "    if len(wrong) != 1:\n",
    "        message = 'More than one stripe has corrupted elements. Nothing can be done.'\\\n",
    "            if wrong else 'Nothing to correct.'\n",
    "        print(message)\n",
    "        return None    \n",
    "\n",
    "    # If only one stripe is damaged then we can proceed to bit correction.\n",
    "    # Retrieve as an array of row vectors those stripes to be evaluated\n",
    "    w = np.vstack([get_arr(f'{file_key}.{i}') for i in right])\n",
    "    v = xor_arr(w)\n",
    "    \n",
    "    # Time to correct\n",
    "    [j] = wrong\n",
    "    path = f'{file_key}.{j}'\n",
    "    post_arr(v,path)\n",
    "    print(f'Successfully rewrote {path}')\n",
    "    \n",
    "    return v\n"
   ]
  },
  {
   "cell_type": "code",
   "execution_count": 48,
   "metadata": {},
   "outputs": [
    {
     "data": {
      "text/plain": [
       "b'\\xa5\\x07\\xa0\\x01\\x9e'"
      ]
     },
     "execution_count": 48,
     "metadata": {},
     "output_type": "execute_result"
    }
   ],
   "source": [
    "p_5 = 0xa5_07_a0_01_9e.to_bytes(5,'big')\n",
    "p_5"
   ]
  },
  {
   "cell_type": "code",
   "execution_count": 49,
   "metadata": {},
   "outputs": [
    {
     "name": "stdout",
     "output_type": "stream",
     "text": [
      "Successfully rewrote raid4.3\n"
     ]
    },
    {
     "data": {
      "text/plain": [
       "array([ 70,  51, 229, ...,  55,  69,   0], dtype=uint8)"
      ]
     },
     "execution_count": 49,
     "metadata": {},
     "output_type": "execute_result"
    }
   ],
   "source": [
    "correct(bytes(col_p),p_5,'raid4')"
   ]
  },
  {
   "cell_type": "code",
   "execution_count": null,
   "metadata": {},
   "outputs": [],
   "source": []
  },
  {
   "cell_type": "markdown",
   "metadata": {},
   "source": [
    "## 2 Cryptography\n",
    "The Caesar cipher is named for Julius Caesar, who used an alphabet where decrypting would shift three letters to the left. A friend has emailed you the following text: K]amua!trgpy. She told you that her encryption algorithm works similar to the Caesar cipher:\n",
    "* to  each ASCI  value  of  each  letter  I  add  a  secret keyvalue.  (note that ASCII values range from 0 to 255) \n",
    "* additionally  to  make  it  more  secure  I  add  a  variable  (so  called) noncevalue to each ASCII number.\n",
    "\n",
    "The nonce start value is 5 for the first character of the message. For each following character add 1 to the nonce of the previous character, e.g. for the second letter the nonce added is 6, for the third letter it is 7 aso. "
   ]
  },
  {
   "cell_type": "markdown",
   "metadata": {},
   "source": [
    "### 2.1 Is this symmetric or asymmetric encryption and explain why?"
   ]
  },
  {
   "cell_type": "markdown",
   "metadata": {},
   "source": [
    "<font color='royalblue'>Since no private key has been created this encryption method is symmetric also The sender does not need the public key of the receiver and in order to decript it.</font>"
   ]
  },
  {
   "cell_type": "markdown",
   "metadata": {},
   "source": [
    "### 2.2 Write a small brute force program which tests keys from 0..255 and use a dictionary approach to figure out the original message. \n",
    "In Python you can use the ord() function to get an integer representation of a character and the chr() to retrieve a character string from an integer!"
   ]
  },
  {
   "cell_type": "code",
   "execution_count": 12,
   "metadata": {},
   "outputs": [],
   "source": [
    "#!pip install pyenchant\n",
    "import re, string, enchant\n",
    "d = enchant.Dict(\"en_US\")"
   ]
  },
  {
   "cell_type": "code",
   "execution_count": 13,
   "metadata": {},
   "outputs": [],
   "source": [
    "'''This function will be used in the decrypt method'''\n",
    "# If the ASCII character is over 255, it will bring it back between 0 and 255 cycling it\n",
    "# for example if ord(letter) = 260 it will be transformed to 4\n",
    "# (assuming the range being from 0 to 255)\n",
    "def reshift(letter,ascimin,ascimax):\n",
    "    if ord(letter) < ascimin:\n",
    "        return chr(ord(letter) - ascimin + ascimax + 1)\n",
    "    elif ord(letter) > ascimax:\n",
    "        return chr(-ascimax + ord(letter) + ascimin - 1)\n",
    "    else:\n",
    "        return letter\n",
    "\n",
    "'''Decryption function'''\n",
    "def decrypt(mex,nonce0,shift,ascimin,ascimax):\n",
    "    word = []\n",
    "    nonce = nonce0 # the starting value of the nonce value\n",
    "    \n",
    "    for letter in mex:\n",
    "        # Since we are decrypting and not encrypting, nonce must be negative\n",
    "        shiftedchr = chr(ord(letter) - nonce + shift)\n",
    "        \n",
    "        # Here we are eventually correcting the ASCII number if it is higher ascimax or lower than ascimin\n",
    "        # because of the shifting\n",
    "        correctedshiftedchr = reshift(reshift(shiftedchr,ascimin,ascimax),ascimin,ascimax)\n",
    "        word.append(correctedshiftedchr)\n",
    "        nonce = nonce + 1 #  for each letter nonce grows by 1\n",
    "        \n",
    "    return word\n",
    "\n",
    "'''Setting the descypted proposals'''\n",
    "# Sicne we need to check if the words belong to an English dictionary, we need to preprocess\n",
    "# the result of decrypt function, we make everything lowercase, split the words whenever we find a space\n",
    "# character and removing every puntuation character\n",
    "def stringtowords(phrase):    \n",
    "    clear_word = ''\n",
    "    for char in phrase:\n",
    "        if char not in string.punctuation:\n",
    "            clear_word += char\n",
    "    return clear_word.lower().split()\n",
    "    "
   ]
  },
  {
   "cell_type": "code",
   "execution_count": 14,
   "metadata": {},
   "outputs": [
    {
     "name": "stdout",
     "output_type": "stream",
     "text": [
      "10 : padova rocks\n",
      "246 : mpbm ow\n"
     ]
    }
   ],
   "source": [
    "ascimax = 255\n",
    "ascimin = 0\n",
    "mex = 'K]amua!trgpy'\n",
    "nonce0 = 5\n",
    "\n",
    "for i in range(ascimin,ascimax):\n",
    "    decrypted = decrypt(mex,nonce0,i,ascimin,ascimax)\n",
    "    words = stringtowords(decrypted)\n",
    "    for word in words:\n",
    "        # In the dictionary valid words are single digits numbers and letters, this avoids getting those\n",
    "        # samples\n",
    "        if len(word) != 1:\n",
    "            # Some special non-printable characters break the function d.check()\n",
    "            try:\n",
    "                d.check(word)\n",
    "                if d.check(word) == True:\n",
    "                    print(i,':',' '.join(words))\n",
    "            except:\n",
    "                pass"
   ]
  },
  {
   "cell_type": "markdown",
   "metadata": {
    "tags": []
   },
   "source": [
    "What is the decryption algorithm/formula to be used?"
   ]
  },
  {
   "cell_type": "markdown",
   "metadata": {},
   "source": [
    "The used key is <font color='royalblue'>10</font> , the original message text is <font color='royalblue'>Padova rocks<font> ! "
   ]
  },
  {
   "cell_type": "markdown",
   "metadata": {},
   "source": [
    "## 3 Object Storage\n",
    "In an object storage system we are mapping objects by name to locations using a hash table.  Imagine we have a system with ten hard disks (10 locations). We enumerate the location of a file using an index of the hard disk [0..9].\n",
    "\n",
    "<img src=\"https://i.ibb.co/dPLWgCs/Screenshot-at-2021-06-02-20-43-04.png\" width=\"800\" height=\"600\"/>\n",
    "\n",
    "Our hash algorithm for placement produces hashes, which are distributed uniform over the value space for a flat input key distribution.  \n",
    "\n",
    "We want now to simulate the behaviour of our hash algorithmwithout the need to actually compute any hash value.\n",
    "\n",
    "Instead  of  using  real  filenames,  which  we  would  hash  and  map  using  a hash  table  to  a  location  (as  we  did  in  the  exercise),  we  are  ‘computing’  a location for ‘any’ file by generating a random number for the location in  the  range  [0..9]  to  assign  a  file  location.  To  place  a  file  in  the  storage system  we  use  this  random  location  where  the  file  will  be  stored  and consumes space. \n",
    "\n",
    "Assume each disk has 1TB of space, we have 10TB in total.\n",
    "\n",
    "Place as many files of 10GB size as possible to hard disks choosing random locations until one hard disk is full. <br> **Hint:** a hard disk is full once you have stored hundred 10GB files."
   ]
  },
  {
   "cell_type": "markdown",
   "metadata": {},
   "source": [
    "### 3.1Write a program in Python, R or using ROOT, which simulates the placement of 10GB files to random locations and account the used space on each hard disk. Once the first hard disk is full, you stop to place files.\n",
    "\n",
    "Remark: the distribution changes every time if the random generator is not seeded always with the same start value. Nevertheless both ways are accepted! \n",
    "\n",
    "Possibly visualise the distribution similar to the histogram above."
   ]
  },
  {
   "cell_type": "code",
   "execution_count": 9,
   "metadata": {},
   "outputs": [],
   "source": [
    "#!pip install psutil\n",
    "import psutil\n",
    "import matplotlib.pyplot as plt\n",
    "import numpy as np\n",
    "from numba import njit\n",
    "np.random.seed(1234)\n",
    "choice = np.random.choice\n",
    "\n",
    "# Assuming np.int64 arrays, \n",
    "# this is the maximum array size allowed for the system\n",
    "n_available = psutil.virtual_memory().available//8\n",
    "\n",
    "# The simulation function is a bit more elaborate than a file-by-file while loop approach.\n",
    "# Although the latter is more straightforward, it proved to be too slow for the calculations performed in 3.4.\n",
    "# This approach exploits numpy and numba for speed purposes.\n",
    "@njit(fastmath = True)\n",
    "def place_files(N_disks, disk_size, file_size, cores_running = 1):\n",
    "    # Initially available space (translated to files)\n",
    "    eff_size = disk_size//file_size\n",
    "    max_new_files = np.repeat(eff_size,N_disks)\n",
    "\n",
    "    while np.all(max_new_files > 0):\n",
    "        # At least how many more files have to be placed to fill one of the hard disks?\n",
    "        min_max_files = max_new_files.min()\n",
    " \n",
    "        # On average, how many placements would have to be made for this to be reached?\n",
    "        avg_new_files = (3*N_disks//4)*min_max_files\n",
    "\n",
    "        # Generate an array for random placement of that many files\n",
    "        placings = choice(np.arange(N_disks),min(n_available//cores_running,avg_new_files))# For memory reasons, there's an upper bound to the number of new files.\n",
    "\n",
    "        ## Count how many files will be added to each disk\n",
    "        new_files, _ = np.histogram(placings,bins = np.arange(N_disks+1))\n",
    "\n",
    "        # did we miss?\n",
    "        excess = new_files - max_new_files\n",
    "        while np.any(excess > 0):\n",
    "            # by at least how many files?\n",
    "            ex = excess[excess>0].sum()\n",
    "            pl_ex = placings[-ex:]\n",
    "            placings = placings[:-ex]\n",
    "            ## Count how many files will be removed from each disk\n",
    "            rem_files, _ = np.histogram(pl_ex,bins = np.arange(N_disks+1))\n",
    "            new_files -= rem_files\n",
    "            excess = new_files - max_new_files\n",
    "        \n",
    "        # is more than one disk full? Stepping back element by element.\n",
    "        while (excess>=0).sum() > 1:\n",
    "            rem_in = placings[-1]\n",
    "            placings = placings[:-1]\n",
    "            new_files[rem_in] -= 1\n",
    "            excess = new_files - max_new_files\n",
    "\n",
    "\n",
    "        # How much space is left now?\n",
    "        max_new_files -= new_files\n",
    "\n",
    "    free_space = max_new_files*file_size\n",
    "    return free_space\n",
    "\n",
    "\n",
    "def plot_usage(disk_size,free_space):\n",
    "    N_disks = len(free_space)\n",
    "    used = [(disk_size - f)/1024 for f in free_space]\n",
    "    plt.bar(range(N_disks),used, width = 0.98, tick_label = range(N_disks), color = 'gray')\n",
    "    plt.title('Used space on each disk')\n",
    "    plt.xlabel('harddisk')\n",
    "    plt.ylabel('Used [GB]')\n",
    "    plt.show()\n",
    "\n"
   ]
  },
  {
   "cell_type": "code",
   "execution_count": 10,
   "metadata": {},
   "outputs": [
    {
     "data": {
      "image/png": "[encoded data removed]",
      "text/plain": [
       "<Figure size 432x288 with 1 Axes>"
      ]
     },
     "metadata": {
      "needs_background": "light"
     },
     "output_type": "display_data"
    }
   ],
   "source": [
    "N_disks = 10; disk_size = 1024*1024 # ten 1TB = 1048576MB disks\n",
    "file_size = 10*1024 # 10GB files\n",
    "\n",
    "free_space = place_files(N_disks,disk_size,file_size)\n",
    "free_space\n",
    "placed_files = (N_disks*disk_size-free_space.sum())//file_size\n",
    "\n",
    "plot_usage(disk_size,free_space)"
   ]
  },
  {
   "cell_type": "markdown",
   "metadata": {},
   "source": [
    "### 3.1a How many files did you manage to place?"
   ]
  },
  {
   "cell_type": "code",
   "execution_count": 54,
   "metadata": {},
   "outputs": [
    {
     "name": "stdout",
     "output_type": "stream",
     "text": [
      "912 files were successfully placed.\n"
     ]
    }
   ],
   "source": [
    "print(f'{placed_files} files were successfully placed.')"
   ]
  },
  {
   "cell_type": "markdown",
   "metadata": {},
   "source": [
    "### 3.1b What is the percentage of total used space on all hard disks in the moment the first disk is full?"
   ]
  },
  {
   "cell_type": "code",
   "execution_count": 55,
   "metadata": {},
   "outputs": [
    {
     "name": "stdout",
     "output_type": "stream",
     "text": [
      "89.06% of the total available space was used.\n"
     ]
    }
   ],
   "source": [
    "total_space = N_disks*disk_size\n",
    "used_percentage = 100*(total_space-sum(free_space))/total_space\n",
    "print(f'{round(used_percentage,2)}% of the total available space was used.')"
   ]
  },
  {
   "cell_type": "markdown",
   "metadata": {},
   "source": [
    "### 3.2 Repeat the same task placing 1GB files until the first hard disk is full."
   ]
  },
  {
   "cell_type": "code",
   "execution_count": 56,
   "metadata": {},
   "outputs": [
    {
     "data": {
      "image/png": "[encoded data removed]",
      "text/plain": [
       "<Figure size 432x288 with 1 Axes>"
      ]
     },
     "metadata": {
      "needs_background": "light"
     },
     "output_type": "display_data"
    }
   ],
   "source": [
    "file_size = 1024 # 1GB files\n",
    "\n",
    "free_space = place_files(N_disks,disk_size,file_size)\n",
    "\n",
    "placed_files = (N_disks*disk_size-free_space.sum())//file_size\n",
    "\n",
    "plot_usage(disk_size,free_space)"
   ]
  },
  {
   "cell_type": "markdown",
   "metadata": {},
   "source": [
    "### 3.2a How many files did you manage to place?"
   ]
  },
  {
   "cell_type": "code",
   "execution_count": 57,
   "metadata": {},
   "outputs": [
    {
     "name": "stdout",
     "output_type": "stream",
     "text": [
      "9712 files were successfully placed.\n"
     ]
    }
   ],
   "source": [
    "print(f'{placed_files} files were successfully placed.')"
   ]
  },
  {
   "cell_type": "markdown",
   "metadata": {},
   "source": [
    "### 3.2b What is the percentage of total used space on all hard disks in the moment the first disk is full? "
   ]
  },
  {
   "cell_type": "code",
   "execution_count": 58,
   "metadata": {},
   "outputs": [
    {
     "name": "stdout",
     "output_type": "stream",
     "text": [
      "94.84% of the total available space was used.\n"
     ]
    }
   ],
   "source": [
    "total_space = N_disks*disk_size\n",
    "used_percentage = 100*(total_space-sum(free_space))/total_space\n",
    "print(f'{round(used_percentage,2)}% of the total available space was used.')"
   ]
  },
  {
   "cell_type": "markdown",
   "metadata": {},
   "source": [
    "### 3.3 Based on this observation: why do you think object storage typically stores fixed size blocks of 4M and not files of GBs size as a whole? (so called block storage approach) \n",
    "\n",
    "Run the same program for 4M block sizes and demonstrate the benefits"
   ]
  },
  {
   "cell_type": "markdown",
   "metadata": {},
   "source": [
    "### SOLUTION\n",
    "To begin with, as the file size is smaller, a bigger fraction of the fullest disk can be used before stopping.\n",
    "Let each disk have the same probability of being selected for storage. Since, when using smaller blocks, the number $N$ of files is greater for a given size. As $N$ increases, a more evenly distributed placement of files is expected, therefore being able to use a larger fraction of the total space before having to stop."
   ]
  },
  {
   "cell_type": "code",
   "execution_count": 59,
   "metadata": {},
   "outputs": [
    {
     "name": "stdout",
     "output_type": "stream",
     "text": [
      "2609887 files were successfully placed.\n",
      "99.56% of the total available space was used.\n"
     ]
    },
    {
     "data": {
      "image/png": "[encoded data removed]",
      "text/plain": [
       "<Figure size 432x288 with 1 Axes>"
      ]
     },
     "metadata": {
      "needs_background": "light"
     },
     "output_type": "display_data"
    }
   ],
   "source": [
    "file_size = 4 # 4MB files\n",
    "\n",
    "free_space = place_files(N_disks,disk_size,file_size)\n",
    "\n",
    "placed_files = (N_disks*disk_size-free_space.sum())//file_size\n",
    "\n",
    "print(f'{placed_files} files were successfully placed.')\n",
    "total_space = N_disks*disk_size\n",
    "used_percentage = 100*(total_space-sum(free_space))/total_space\n",
    "print(f'{round(used_percentage,2)}% of the total available space was used.')\n",
    "plot_usage(disk_size,free_space)"
   ]
  },
  {
   "cell_type": "markdown",
   "metadata": {},
   "source": [
    "### 3.4. Compute the average used space on all hard disks and the standard deviation for the average used space for 10 GB and 1GB and 4M files. How is the standard deviation correlated to the block size and why?  If we now repeat such an experiment for many more (thousands) of hard disks, which kind of distribution do you get when you do a histogram of the used space of all hard disks?"
   ]
  },
  {
   "cell_type": "code",
   "execution_count": 61,
   "metadata": {},
   "outputs": [
    {
     "ename": "KeyboardInterrupt",
     "evalue": "",
     "output_type": "error",
     "traceback": [
      "\u001b[0;31m---------------------------------------------------------------------------\u001b[0m",
      "\u001b[0;31mKeyboardInterrupt\u001b[0m                         Traceback (most recent call last)",
      "\u001b[0;32m<ipython-input-61-134846ee7dc6>\u001b[0m in \u001b[0;36m<module>\u001b[0;34m\u001b[0m\n\u001b[1;32m     14\u001b[0m         \u001b[0;34m[\u001b[0m\u001b[0mdk\u001b[0m\u001b[0;34m.\u001b[0m\u001b[0mdelayed\u001b[0m\u001b[0;34m(\u001b[0m\u001b[0mplace_files\u001b[0m\u001b[0;34m)\u001b[0m\u001b[0;34m(\u001b[0m\u001b[0mN_disks\u001b[0m\u001b[0;34m,\u001b[0m\u001b[0mdisk_size\u001b[0m\u001b[0;34m,\u001b[0m\u001b[0mfile_size\u001b[0m\u001b[0;34m)\u001b[0m\u001b[0;34m.\u001b[0m\u001b[0msum\u001b[0m\u001b[0;34m(\u001b[0m\u001b[0;34m)\u001b[0m \u001b[0;32mfor\u001b[0m \u001b[0m_\u001b[0m \u001b[0;32min\u001b[0m \u001b[0mrange\u001b[0m\u001b[0;34m(\u001b[0m\u001b[0mN\u001b[0m\u001b[0;34m)\u001b[0m\u001b[0;34m]\u001b[0m\u001b[0;34m\u001b[0m\u001b[0;34m\u001b[0m\u001b[0m\n\u001b[1;32m     15\u001b[0m         ).compute()\n\u001b[0;32m---> 16\u001b[0;31m     \u001b[0msims\u001b[0m \u001b[0;34m=\u001b[0m \u001b[0mnp\u001b[0m\u001b[0;34m.\u001b[0m\u001b[0marray\u001b[0m\u001b[0;34m(\u001b[0m\u001b[0msimulate\u001b[0m\u001b[0;34m(\u001b[0m\u001b[0;36m500\u001b[0m\u001b[0;34m)\u001b[0m\u001b[0;34m)\u001b[0m\u001b[0;34m\u001b[0m\u001b[0;34m\u001b[0m\u001b[0m\n\u001b[0m\u001b[1;32m     17\u001b[0m     \u001b[0mused\u001b[0m \u001b[0;34m=\u001b[0m \u001b[0;34m(\u001b[0m\u001b[0mN_disks\u001b[0m\u001b[0;34m*\u001b[0m\u001b[0mdisk_size\u001b[0m \u001b[0;34m-\u001b[0m \u001b[0msims\u001b[0m\u001b[0;34m)\u001b[0m\u001b[0;34m/\u001b[0m\u001b[0;36m1024\u001b[0m\u001b[0;34m/\u001b[0m\u001b[0;36m1024\u001b[0m\u001b[0;34m\u001b[0m\u001b[0;34m\u001b[0m\u001b[0m\n\u001b[1;32m     18\u001b[0m     \u001b[0mresults\u001b[0m\u001b[0;34m.\u001b[0m\u001b[0mappend\u001b[0m\u001b[0;34m(\u001b[0m\u001b[0mused\u001b[0m\u001b[0;34m)\u001b[0m\u001b[0;34m\u001b[0m\u001b[0;34m\u001b[0m\u001b[0m\n",
      "\u001b[0;32m<ipython-input-61-134846ee7dc6>\u001b[0m in \u001b[0;36m<lambda>\u001b[0;34m(N)\u001b[0m\n\u001b[1;32m     11\u001b[0m \u001b[0;34m\u001b[0m\u001b[0m\n\u001b[1;32m     12\u001b[0m \u001b[0;32mfor\u001b[0m \u001b[0mfile_size\u001b[0m \u001b[0;32min\u001b[0m \u001b[0msizes\u001b[0m\u001b[0;34m:\u001b[0m\u001b[0;34m\u001b[0m\u001b[0;34m\u001b[0m\u001b[0m\n\u001b[0;32m---> 13\u001b[0;31m     simulate = lambda N: dk.delayed()(\n\u001b[0m\u001b[1;32m     14\u001b[0m         \u001b[0;34m[\u001b[0m\u001b[0mdk\u001b[0m\u001b[0;34m.\u001b[0m\u001b[0mdelayed\u001b[0m\u001b[0;34m(\u001b[0m\u001b[0mplace_files\u001b[0m\u001b[0;34m)\u001b[0m\u001b[0;34m(\u001b[0m\u001b[0mN_disks\u001b[0m\u001b[0;34m,\u001b[0m\u001b[0mdisk_size\u001b[0m\u001b[0;34m,\u001b[0m\u001b[0mfile_size\u001b[0m\u001b[0;34m)\u001b[0m\u001b[0;34m.\u001b[0m\u001b[0msum\u001b[0m\u001b[0;34m(\u001b[0m\u001b[0;34m)\u001b[0m \u001b[0;32mfor\u001b[0m \u001b[0m_\u001b[0m \u001b[0;32min\u001b[0m \u001b[0mrange\u001b[0m\u001b[0;34m(\u001b[0m\u001b[0mN\u001b[0m\u001b[0;34m)\u001b[0m\u001b[0;34m]\u001b[0m\u001b[0;34m\u001b[0m\u001b[0;34m\u001b[0m\u001b[0m\n\u001b[1;32m     15\u001b[0m         ).compute()\n",
      "\u001b[0;32m~/.local/lib/python3.8/site-packages/dask/base.py\u001b[0m in \u001b[0;36mcompute\u001b[0;34m(self, **kwargs)\u001b[0m\n\u001b[1;32m    283\u001b[0m         \u001b[0mdask\u001b[0m\u001b[0;34m.\u001b[0m\u001b[0mbase\u001b[0m\u001b[0;34m.\u001b[0m\u001b[0mcompute\u001b[0m\u001b[0;34m\u001b[0m\u001b[0;34m\u001b[0m\u001b[0m\n\u001b[1;32m    284\u001b[0m         \"\"\"\n\u001b[0;32m--> 285\u001b[0;31m         \u001b[0;34m(\u001b[0m\u001b[0mresult\u001b[0m\u001b[0;34m,\u001b[0m\u001b[0;34m)\u001b[0m \u001b[0;34m=\u001b[0m \u001b[0mcompute\u001b[0m\u001b[0;34m(\u001b[0m\u001b[0mself\u001b[0m\u001b[0;34m,\u001b[0m \u001b[0mtraverse\u001b[0m\u001b[0;34m=\u001b[0m\u001b[0;32mFalse\u001b[0m\u001b[0;34m,\u001b[0m \u001b[0;34m**\u001b[0m\u001b[0mkwargs\u001b[0m\u001b[0;34m)\u001b[0m\u001b[0;34m\u001b[0m\u001b[0;34m\u001b[0m\u001b[0m\n\u001b[0m\u001b[1;32m    286\u001b[0m         \u001b[0;32mreturn\u001b[0m \u001b[0mresult\u001b[0m\u001b[0;34m\u001b[0m\u001b[0;34m\u001b[0m\u001b[0m\n\u001b[1;32m    287\u001b[0m \u001b[0;34m\u001b[0m\u001b[0m\n",
      "\u001b[0;32m~/.local/lib/python3.8/site-packages/dask/base.py\u001b[0m in \u001b[0;36mcompute\u001b[0;34m(*args, **kwargs)\u001b[0m\n\u001b[1;32m    565\u001b[0m         \u001b[0mpostcomputes\u001b[0m\u001b[0;34m.\u001b[0m\u001b[0mappend\u001b[0m\u001b[0;34m(\u001b[0m\u001b[0mx\u001b[0m\u001b[0;34m.\u001b[0m\u001b[0m__dask_postcompute__\u001b[0m\u001b[0;34m(\u001b[0m\u001b[0;34m)\u001b[0m\u001b[0;34m)\u001b[0m\u001b[0;34m\u001b[0m\u001b[0;34m\u001b[0m\u001b[0m\n\u001b[1;32m    566\u001b[0m \u001b[0;34m\u001b[0m\u001b[0m\n\u001b[0;32m--> 567\u001b[0;31m     \u001b[0mresults\u001b[0m \u001b[0;34m=\u001b[0m \u001b[0mschedule\u001b[0m\u001b[0;34m(\u001b[0m\u001b[0mdsk\u001b[0m\u001b[0;34m,\u001b[0m \u001b[0mkeys\u001b[0m\u001b[0;34m,\u001b[0m \u001b[0;34m**\u001b[0m\u001b[0mkwargs\u001b[0m\u001b[0;34m)\u001b[0m\u001b[0;34m\u001b[0m\u001b[0;34m\u001b[0m\u001b[0m\n\u001b[0m\u001b[1;32m    568\u001b[0m     \u001b[0;32mreturn\u001b[0m \u001b[0mrepack\u001b[0m\u001b[0;34m(\u001b[0m\u001b[0;34m[\u001b[0m\u001b[0mf\u001b[0m\u001b[0;34m(\u001b[0m\u001b[0mr\u001b[0m\u001b[0;34m,\u001b[0m \u001b[0;34m*\u001b[0m\u001b[0ma\u001b[0m\u001b[0;34m)\u001b[0m \u001b[0;32mfor\u001b[0m \u001b[0mr\u001b[0m\u001b[0;34m,\u001b[0m \u001b[0;34m(\u001b[0m\u001b[0mf\u001b[0m\u001b[0;34m,\u001b[0m \u001b[0ma\u001b[0m\u001b[0;34m)\u001b[0m \u001b[0;32min\u001b[0m \u001b[0mzip\u001b[0m\u001b[0;34m(\u001b[0m\u001b[0mresults\u001b[0m\u001b[0;34m,\u001b[0m \u001b[0mpostcomputes\u001b[0m\u001b[0;34m)\u001b[0m\u001b[0;34m]\u001b[0m\u001b[0;34m)\u001b[0m\u001b[0;34m\u001b[0m\u001b[0;34m\u001b[0m\u001b[0m\n\u001b[1;32m    569\u001b[0m \u001b[0;34m\u001b[0m\u001b[0m\n",
      "\u001b[0;32m~/.local/lib/python3.8/site-packages/dask/threaded.py\u001b[0m in \u001b[0;36mget\u001b[0;34m(dsk, result, cache, num_workers, pool, **kwargs)\u001b[0m\n\u001b[1;32m     77\u001b[0m             \u001b[0mpool\u001b[0m \u001b[0;34m=\u001b[0m \u001b[0mMultiprocessingPoolExecutor\u001b[0m\u001b[0;34m(\u001b[0m\u001b[0mpool\u001b[0m\u001b[0;34m)\u001b[0m\u001b[0;34m\u001b[0m\u001b[0;34m\u001b[0m\u001b[0m\n\u001b[1;32m     78\u001b[0m \u001b[0;34m\u001b[0m\u001b[0m\n\u001b[0;32m---> 79\u001b[0;31m     results = get_async(\n\u001b[0m\u001b[1;32m     80\u001b[0m         \u001b[0mpool\u001b[0m\u001b[0;34m.\u001b[0m\u001b[0msubmit\u001b[0m\u001b[0;34m,\u001b[0m\u001b[0;34m\u001b[0m\u001b[0;34m\u001b[0m\u001b[0m\n\u001b[1;32m     81\u001b[0m         \u001b[0mpool\u001b[0m\u001b[0;34m.\u001b[0m\u001b[0m_max_workers\u001b[0m\u001b[0;34m,\u001b[0m\u001b[0;34m\u001b[0m\u001b[0;34m\u001b[0m\u001b[0m\n",
      "\u001b[0;32m~/.local/lib/python3.8/site-packages/dask/local.py\u001b[0m in \u001b[0;36mget_async\u001b[0;34m(submit, num_workers, dsk, result, cache, get_id, rerun_exceptions_locally, pack_exception, raise_exception, callbacks, dumps, loads, chunksize, **kwargs)\u001b[0m\n\u001b[1;32m    500\u001b[0m             \u001b[0;31m# Main loop, wait on tasks to finish, insert new ones\u001b[0m\u001b[0;34m\u001b[0m\u001b[0;34m\u001b[0m\u001b[0;34m\u001b[0m\u001b[0m\n\u001b[1;32m    501\u001b[0m             \u001b[0;32mwhile\u001b[0m \u001b[0mstate\u001b[0m\u001b[0;34m[\u001b[0m\u001b[0;34m\"waiting\"\u001b[0m\u001b[0;34m]\u001b[0m \u001b[0;32mor\u001b[0m \u001b[0mstate\u001b[0m\u001b[0;34m[\u001b[0m\u001b[0;34m\"ready\"\u001b[0m\u001b[0;34m]\u001b[0m \u001b[0;32mor\u001b[0m \u001b[0mstate\u001b[0m\u001b[0;34m[\u001b[0m\u001b[0;34m\"running\"\u001b[0m\u001b[0;34m]\u001b[0m\u001b[0;34m:\u001b[0m\u001b[0;34m\u001b[0m\u001b[0;34m\u001b[0m\u001b[0m\n\u001b[0;32m--> 502\u001b[0;31m                 \u001b[0mfire_tasks\u001b[0m\u001b[0;34m(\u001b[0m\u001b[0mchunksize\u001b[0m\u001b[0;34m)\u001b[0m\u001b[0;34m\u001b[0m\u001b[0;34m\u001b[0m\u001b[0m\n\u001b[0m\u001b[1;32m    503\u001b[0m                 \u001b[0;32mfor\u001b[0m \u001b[0mkey\u001b[0m\u001b[0;34m,\u001b[0m \u001b[0mres_info\u001b[0m\u001b[0;34m,\u001b[0m \u001b[0mfailed\u001b[0m \u001b[0;32min\u001b[0m \u001b[0mqueue_get\u001b[0m\u001b[0;34m(\u001b[0m\u001b[0mqueue\u001b[0m\u001b[0;34m)\u001b[0m\u001b[0;34m.\u001b[0m\u001b[0mresult\u001b[0m\u001b[0;34m(\u001b[0m\u001b[0;34m)\u001b[0m\u001b[0;34m:\u001b[0m\u001b[0;34m\u001b[0m\u001b[0;34m\u001b[0m\u001b[0m\n\u001b[1;32m    504\u001b[0m                     \u001b[0;32mif\u001b[0m \u001b[0mfailed\u001b[0m\u001b[0;34m:\u001b[0m\u001b[0;34m\u001b[0m\u001b[0;34m\u001b[0m\u001b[0m\n",
      "\u001b[0;32m~/.local/lib/python3.8/site-packages/dask/local.py\u001b[0m in \u001b[0;36mfire_tasks\u001b[0;34m(chunksize)\u001b[0m\n\u001b[1;32m    495\u001b[0m                     \u001b[0;32mif\u001b[0m \u001b[0;32mnot\u001b[0m \u001b[0meach_args\u001b[0m\u001b[0;34m:\u001b[0m\u001b[0;34m\u001b[0m\u001b[0;34m\u001b[0m\u001b[0m\n\u001b[1;32m    496\u001b[0m                         \u001b[0;32mbreak\u001b[0m\u001b[0;34m\u001b[0m\u001b[0;34m\u001b[0m\u001b[0m\n\u001b[0;32m--> 497\u001b[0;31m                     \u001b[0mfut\u001b[0m \u001b[0;34m=\u001b[0m \u001b[0msubmit\u001b[0m\u001b[0;34m(\u001b[0m\u001b[0mbatch_execute_tasks\u001b[0m\u001b[0;34m,\u001b[0m \u001b[0meach_args\u001b[0m\u001b[0;34m)\u001b[0m\u001b[0;34m\u001b[0m\u001b[0;34m\u001b[0m\u001b[0m\n\u001b[0m\u001b[1;32m    498\u001b[0m                     \u001b[0mfut\u001b[0m\u001b[0;34m.\u001b[0m\u001b[0madd_done_callback\u001b[0m\u001b[0;34m(\u001b[0m\u001b[0mqueue\u001b[0m\u001b[0;34m.\u001b[0m\u001b[0mput\u001b[0m\u001b[0;34m)\u001b[0m\u001b[0;34m\u001b[0m\u001b[0;34m\u001b[0m\u001b[0m\n\u001b[1;32m    499\u001b[0m \u001b[0;34m\u001b[0m\u001b[0m\n",
      "\u001b[0;32m/usr/lib/python3.8/concurrent/futures/thread.py\u001b[0m in \u001b[0;36msubmit\u001b[0;34m(*args, **kwargs)\u001b[0m\n\u001b[1;32m    186\u001b[0m \u001b[0;34m\u001b[0m\u001b[0m\n\u001b[1;32m    187\u001b[0m             \u001b[0mself\u001b[0m\u001b[0;34m.\u001b[0m\u001b[0m_work_queue\u001b[0m\u001b[0;34m.\u001b[0m\u001b[0mput\u001b[0m\u001b[0;34m(\u001b[0m\u001b[0mw\u001b[0m\u001b[0;34m)\u001b[0m\u001b[0;34m\u001b[0m\u001b[0;34m\u001b[0m\u001b[0m\n\u001b[0;32m--> 188\u001b[0;31m             \u001b[0mself\u001b[0m\u001b[0;34m.\u001b[0m\u001b[0m_adjust_thread_count\u001b[0m\u001b[0;34m(\u001b[0m\u001b[0;34m)\u001b[0m\u001b[0;34m\u001b[0m\u001b[0;34m\u001b[0m\u001b[0m\n\u001b[0m\u001b[1;32m    189\u001b[0m             \u001b[0;32mreturn\u001b[0m \u001b[0mf\u001b[0m\u001b[0;34m\u001b[0m\u001b[0;34m\u001b[0m\u001b[0m\n\u001b[1;32m    190\u001b[0m     \u001b[0msubmit\u001b[0m\u001b[0;34m.\u001b[0m\u001b[0m__text_signature__\u001b[0m \u001b[0;34m=\u001b[0m \u001b[0m_base\u001b[0m\u001b[0;34m.\u001b[0m\u001b[0mExecutor\u001b[0m\u001b[0;34m.\u001b[0m\u001b[0msubmit\u001b[0m\u001b[0;34m.\u001b[0m\u001b[0m__text_signature__\u001b[0m\u001b[0;34m\u001b[0m\u001b[0;34m\u001b[0m\u001b[0m\n",
      "\u001b[0;32m/usr/lib/python3.8/concurrent/futures/thread.py\u001b[0m in \u001b[0;36m_adjust_thread_count\u001b[0;34m(self)\u001b[0m\n\u001b[1;32m    211\u001b[0m                                        self._initargs))\n\u001b[1;32m    212\u001b[0m             \u001b[0mt\u001b[0m\u001b[0;34m.\u001b[0m\u001b[0mdaemon\u001b[0m \u001b[0;34m=\u001b[0m \u001b[0;32mTrue\u001b[0m\u001b[0;34m\u001b[0m\u001b[0;34m\u001b[0m\u001b[0m\n\u001b[0;32m--> 213\u001b[0;31m             \u001b[0mt\u001b[0m\u001b[0;34m.\u001b[0m\u001b[0mstart\u001b[0m\u001b[0;34m(\u001b[0m\u001b[0;34m)\u001b[0m\u001b[0;34m\u001b[0m\u001b[0;34m\u001b[0m\u001b[0m\n\u001b[0m\u001b[1;32m    214\u001b[0m             \u001b[0mself\u001b[0m\u001b[0;34m.\u001b[0m\u001b[0m_threads\u001b[0m\u001b[0;34m.\u001b[0m\u001b[0madd\u001b[0m\u001b[0;34m(\u001b[0m\u001b[0mt\u001b[0m\u001b[0;34m)\u001b[0m\u001b[0;34m\u001b[0m\u001b[0;34m\u001b[0m\u001b[0m\n\u001b[1;32m    215\u001b[0m             \u001b[0m_threads_queues\u001b[0m\u001b[0;34m[\u001b[0m\u001b[0mt\u001b[0m\u001b[0;34m]\u001b[0m \u001b[0;34m=\u001b[0m \u001b[0mself\u001b[0m\u001b[0;34m.\u001b[0m\u001b[0m_work_queue\u001b[0m\u001b[0;34m\u001b[0m\u001b[0;34m\u001b[0m\u001b[0m\n",
      "\u001b[0;32m/usr/lib/python3.8/threading.py\u001b[0m in \u001b[0;36mstart\u001b[0;34m(self)\u001b[0m\n\u001b[1;32m    855\u001b[0m                 \u001b[0;32mdel\u001b[0m \u001b[0m_limbo\u001b[0m\u001b[0;34m[\u001b[0m\u001b[0mself\u001b[0m\u001b[0;34m]\u001b[0m\u001b[0;34m\u001b[0m\u001b[0;34m\u001b[0m\u001b[0m\n\u001b[1;32m    856\u001b[0m             \u001b[0;32mraise\u001b[0m\u001b[0;34m\u001b[0m\u001b[0;34m\u001b[0m\u001b[0m\n\u001b[0;32m--> 857\u001b[0;31m         \u001b[0mself\u001b[0m\u001b[0;34m.\u001b[0m\u001b[0m_started\u001b[0m\u001b[0;34m.\u001b[0m\u001b[0mwait\u001b[0m\u001b[0;34m(\u001b[0m\u001b[0;34m)\u001b[0m\u001b[0;34m\u001b[0m\u001b[0;34m\u001b[0m\u001b[0m\n\u001b[0m\u001b[1;32m    858\u001b[0m \u001b[0;34m\u001b[0m\u001b[0m\n\u001b[1;32m    859\u001b[0m     \u001b[0;32mdef\u001b[0m \u001b[0mrun\u001b[0m\u001b[0;34m(\u001b[0m\u001b[0mself\u001b[0m\u001b[0;34m)\u001b[0m\u001b[0;34m:\u001b[0m\u001b[0;34m\u001b[0m\u001b[0;34m\u001b[0m\u001b[0m\n",
      "\u001b[0;32m/usr/lib/python3.8/threading.py\u001b[0m in \u001b[0;36mwait\u001b[0;34m(self, timeout)\u001b[0m\n\u001b[1;32m    556\u001b[0m             \u001b[0msignaled\u001b[0m \u001b[0;34m=\u001b[0m \u001b[0mself\u001b[0m\u001b[0;34m.\u001b[0m\u001b[0m_flag\u001b[0m\u001b[0;34m\u001b[0m\u001b[0;34m\u001b[0m\u001b[0m\n\u001b[1;32m    557\u001b[0m             \u001b[0;32mif\u001b[0m \u001b[0;32mnot\u001b[0m \u001b[0msignaled\u001b[0m\u001b[0;34m:\u001b[0m\u001b[0;34m\u001b[0m\u001b[0;34m\u001b[0m\u001b[0m\n\u001b[0;32m--> 558\u001b[0;31m                 \u001b[0msignaled\u001b[0m \u001b[0;34m=\u001b[0m \u001b[0mself\u001b[0m\u001b[0;34m.\u001b[0m\u001b[0m_cond\u001b[0m\u001b[0;34m.\u001b[0m\u001b[0mwait\u001b[0m\u001b[0;34m(\u001b[0m\u001b[0mtimeout\u001b[0m\u001b[0;34m)\u001b[0m\u001b[0;34m\u001b[0m\u001b[0;34m\u001b[0m\u001b[0m\n\u001b[0m\u001b[1;32m    559\u001b[0m             \u001b[0;32mreturn\u001b[0m \u001b[0msignaled\u001b[0m\u001b[0;34m\u001b[0m\u001b[0;34m\u001b[0m\u001b[0m\n\u001b[1;32m    560\u001b[0m \u001b[0;34m\u001b[0m\u001b[0m\n",
      "\u001b[0;32m/usr/lib/python3.8/threading.py\u001b[0m in \u001b[0;36mwait\u001b[0;34m(self, timeout)\u001b[0m\n\u001b[1;32m    300\u001b[0m         \u001b[0;32mtry\u001b[0m\u001b[0;34m:\u001b[0m    \u001b[0;31m# restore state no matter what (e.g., KeyboardInterrupt)\u001b[0m\u001b[0;34m\u001b[0m\u001b[0;34m\u001b[0m\u001b[0m\n\u001b[1;32m    301\u001b[0m             \u001b[0;32mif\u001b[0m \u001b[0mtimeout\u001b[0m \u001b[0;32mis\u001b[0m \u001b[0;32mNone\u001b[0m\u001b[0;34m:\u001b[0m\u001b[0;34m\u001b[0m\u001b[0;34m\u001b[0m\u001b[0m\n\u001b[0;32m--> 302\u001b[0;31m                 \u001b[0mwaiter\u001b[0m\u001b[0;34m.\u001b[0m\u001b[0macquire\u001b[0m\u001b[0;34m(\u001b[0m\u001b[0;34m)\u001b[0m\u001b[0;34m\u001b[0m\u001b[0;34m\u001b[0m\u001b[0m\n\u001b[0m\u001b[1;32m    303\u001b[0m                 \u001b[0mgotit\u001b[0m \u001b[0;34m=\u001b[0m \u001b[0;32mTrue\u001b[0m\u001b[0;34m\u001b[0m\u001b[0;34m\u001b[0m\u001b[0m\n\u001b[1;32m    304\u001b[0m             \u001b[0;32melse\u001b[0m\u001b[0;34m:\u001b[0m\u001b[0;34m\u001b[0m\u001b[0;34m\u001b[0m\u001b[0m\n",
      "\u001b[0;31mKeyboardInterrupt\u001b[0m: "
     ]
    }
   ],
   "source": [
    "# Using dask for simulation time purposes\n",
    "import dask as dk\n",
    "from scipy.stats import nbinom\n",
    "\n",
    "avgs = []\n",
    "stds = []\n",
    "sizes = [4,256,512,1024,2*1024,5*1024,10*1024]\n",
    "pltsizes = [4,1024,10*1024]\n",
    "N_disks = 2500\n",
    "results = []\n",
    "cores_running = psutil.cpu_count()\n",
    "\n",
    "for file_size in sizes:\n",
    "    simulate = lambda N: dk.delayed()(\n",
    "        [\n",
    "            dk.delayed(place_files)(N_disks,disk_size,file_size, cores_running = cores_running).sum()\\\n",
    "            for _ in range(N)\n",
    "        ]\n",
    "        ).compute()\n",
    "    sims = np.array(simulate(500))\n",
    "    used = (N_disks*disk_size - sims)/1024/1024\n",
    "    results.append(used)\n",
    "\n",
    "    avg = np.average(used)\n",
    "    std = np.std(used)\n",
    "    \n",
    "    avgs.append(avg)\n",
    "    stds.append(std)\n",
    "    \n",
    "#    if file_size in pltsizes:\n",
    "#        plt.hist(used, density=True)\n",
    "#        unit = 'GB' if file_size >= 1024 else 'MB'\n",
    "#        norm = 1 if unit == 'MB' else 1024\n",
    "#        plt.title(f'Final storage use for {int(file_size/norm)}{unit} files')\n",
    "#        plt.xlabel('used space [TB]')\n",
    "#        plt.ylabel('density')\n",
    "#        plt.show()\n",
    "\n",
    "plt.scatter(sizes,avgs)"
   ]
  },
  {
   "cell_type": "code",
   "execution_count": null,
   "metadata": {},
   "outputs": [
    {
     "ename": "Error",
     "evalue": "Session cannot generate requests",
     "output_type": "error",
     "traceback": [
      "Error: Session cannot generate requests",
      "at w.executeCodeCell (/home/gerardo/.vscode-insiders/extensions/ms-toolsai.jupyter-2021.6.914258744/out/client/extension.js:90:325160)",
      "at w.execute (/home/gerardo/.vscode-insiders/extensions/ms-toolsai.jupyter-2021.6.914258744/out/client/extension.js:90:324549)",
      "at w.start (/home/gerardo/.vscode-insiders/extensions/ms-toolsai.jupyter-2021.6.914258744/out/client/extension.js:90:320365)",
      "at runMicrotasks (<anonymous>)",
      "at processTicksAndRejections (internal/process/task_queues.js:93:5)",
      "at async t.CellExecutionQueue.executeQueuedCells (/home/gerardo/.vscode-insiders/extensions/ms-toolsai.jupyter-2021.6.914258744/out/client/extension.js:90:334791)",
      "at async t.CellExecutionQueue.start (/home/gerardo/.vscode-insiders/extensions/ms-toolsai.jupyter-2021.6.914258744/out/client/extension.js:90:334331)"
     ]
    }
   ],
   "source": [
    "lb, ub = int(used.min()*1024*1024/file_size), int(used.max()*1024*1024/file_size)\n",
    "s = np.arange(lb,1.1*ub)\n",
    "goal = int(disk_size/file_size)\n",
    "rv = nbinom(goal,1/N_disks)\n",
    "p = rv.pmf(s)\n",
    "a, _ = np.histogram(used, bins = 20)\n",
    "k = 1/p.max()\n",
    "plt.plot(s*file_size/1024/1024,k*p)\n",
    "plt.hist(used, bins = 20, density = True)\n",
    "plt.show()"
   ]
  },
  {
   "cell_type": "markdown",
   "metadata": {},
   "source": [
    "## 4 Rest APIs & Block Chain Technology "
   ]
  },
  {
   "cell_type": "markdown",
   "metadata": {},
   "source": [
    "Under https://pansophy.app:8443 you find a Crypto Coin Server exporting a simple Block Chain.\n",
    "\n",
    "You can open this URL in any web browser to see the current Block Chain status and the account information. At the time of writing the initial birth account of the Block Chain contained 1M coins ( “genesis” : 1000000 ) : \n",
    "\n",
    "<img src=\"https://i.ibb.co/nPNksZt/Screenshot-at-2021-06-02-21-01-56.png\" width=\"800\" height=\"600\"/>\n",
    "\n",
    "The REST responses are given in JSON format. Our REST API uses secure HTTP protocol and it is based on two HTTP methods:\n",
    "\n",
    "GET\n",
    "\n",
    "POST \n",
    "\n",
    "GET requests are used, to retrieve any kind of information, POST requests are used to change state in the server. \n",
    "\n",
    "The task is to implement a client and use a simple REST API to submit transactions to the Block Chain. Your goal is to book coins from other people’s accounts to your own account.  The server implements a Proof Of Time algorithm. To add a transaction to move coins to your account, you have to submit a merit request and you have to let time pass before you can send a claim request to execute your transaction on the Block Chain. If you claim your transaction too fast after a merit request, your request is discarded. The server enforces a Proof Of Time of a minimum of 10 seconds!"
   ]
  },
  {
   "cell_type": "code",
   "execution_count": 2,
   "metadata": {},
   "outputs": [],
   "source": [
    "import os\n",
    "import json\n",
    "import time\n",
    "import numpy as np\n",
    "import multiprocessing"
   ]
  },
  {
   "cell_type": "code",
   "execution_count": 3,
   "metadata": {},
   "outputs": [],
   "source": [
    "url     = 'https://pansophy.app:8443/'\n",
    "ourteam = 'GitPush'"
   ]
  },
  {
   "cell_type": "code",
   "execution_count": 4,
   "metadata": {},
   "outputs": [],
   "source": [
    "# If the site does not temporarely work, I saved in this file a json example:\n",
    "exfile = 'jsonex'\n",
    "\n",
    "with open(exfile, 'r') as file:\n",
    "    src = file.read().replace('\\n', '')\n",
    "data = json.loads(src)"
   ]
  },
  {
   "cell_type": "code",
   "execution_count": 5,
   "metadata": {},
   "outputs": [],
   "source": [
    "'''This function is just auxiliary for other functions. It returns the json of the page'''\n",
    "# url: the page: https://pansophy.app:8443/\n",
    "# sec: for how long do you want to read it\n",
    "# debug: prints the json string\n",
    "def rest_curl(url,sec = 5, verbose = False, debug = False):\n",
    "    cmd =  'curl -k ' + url + ' & sleep ' + str(sec) + ' ; kill $!'\n",
    "    \n",
    "    if verbose:\n",
    "        print('Executing:\\n  ',cmd)\n",
    "    scr = os.popen(cmd).read()\n",
    "    \n",
    "    if debug:\n",
    "        print(scr)\n",
    "    \n",
    "    if len(scr) == 0:\n",
    "        print('ERROR: The site is currently NOT working')\n",
    "        return 0\n",
    "    else:\n",
    "        return json.loads(scr)"
   ]
  },
  {
   "cell_type": "code",
   "execution_count": 6,
   "metadata": {},
   "outputs": [],
   "source": [
    "'''Returns the current situation regarding teams and their coins'''\n",
    "# offline: if the site does not work set offline=True to load a json example\n",
    "def rest_teamsandcoins(url, offline = False):\n",
    "    if offline:\n",
    "        jsn = data\n",
    "    else:\n",
    "        jsn = rest_curl(url, sec = 1, verbose = False)\n",
    "    \n",
    "    return(jsn['accounts'])\n",
    "    \n",
    "teams = rest_teamsandcoins(url)\n",
    "\n",
    "#print(teams.keys())   # Prints the teams\n",
    "#print(teams.values()) # Prints the values\n",
    "\n",
    "# To convert to an array you can do:\n",
    "## names = list(teams.keys())\n",
    "## coins = list(teams.values())\n",
    "\n",
    "## print(names[0], coins[0])"
   ]
  },
  {
   "cell_type": "code",
   "execution_count": 7,
   "metadata": {},
   "outputs": [],
   "source": [
    "def rest_initiatetransation(url, team, stealfrom, howmuch = 100):\n",
    "    cmd = 'curl -k -X POST -H \"Content-Type: application/json\" -d \\'{\"operation\": \"merit\",\"team\": \"'+ team +'\", \"coin\": '+str(howmuch)+', \"stealfrom\": \"' + stealfrom +'\"}\\' ' + url\n",
    "    #print(cmd)\n",
    "    os.system(cmd)\n",
    "    return\n",
    " \n",
    "def rest_claimtransation(url, team):\n",
    "    cmd = 'curl -k -X POST -H \"Content-Type: application/json\" -d \\'{\"operation\": \"claim\",\"team\": \"'+team+'\"}\\' ' + url\n",
    "    #print(cmd)\n",
    "    os.system(cmd)\n",
    "    \n",
    "def rest_initiateandclaim(url, ourteam, enemyteam, howmuch = 100):\n",
    "    rest_initiatetransation(url, ourteam, enemyteam, howmuch)\n",
    "    time.sleep(10)\n",
    "    \n",
    "    rest_claimtransation(url,ourteam)\n",
    "    rest_claimtransation(url,enemyteam)"
   ]
  },
  {
   "cell_type": "markdown",
   "metadata": {},
   "source": [
    "### 4.1.1 Use the REST API  and the curl command to transfer coins of the genesis or any other account on your own team account. \n",
    "You can use the -d option to POST a document. You have to indicate in your request, that the content type of the document is JSON. To do this you can add an HTTP header for this command  \n",
    "```curl ... -H”Content-Type: application/json” ...```\n",
    "\n",
    "If you prefer, you can use a Python program, doing the same HTTPS requests respecting Proof of Time.If you want to have some more fun, you can also load the current state into your Python script using GET requests and programatically steal from accounts which are reported. Be aware, that you can never steal the last coin of an account and if at the time of a claim there are not enough coins left on an account, your transaction is discarded.\n",
    "\n",
    "To you will have to add at least one successful transaction to the Block Chain. "
   ]
  },
  {
   "cell_type": "code",
   "execution_count": 8,
   "metadata": {},
   "outputs": [
    {
     "name": "stdout",
     "output_type": "stream",
     "text": [
      "Balance before transfer:\n",
      "   GitPush :  15400\n",
      "\n",
      "Balance after tansaction\n",
      "   GitPush :  15500\n"
     ]
    }
   ],
   "source": [
    "# Here I wanted to use the teamandcoins function to show the balance of coind before and after initiatetransation and claimtransation\n",
    "# however the site does not currently work\n",
    "\n",
    "teams = rest_teamsandcoins(url)\n",
    "names = list(teams.keys())\n",
    "coins = list(teams.values())\n",
    "\n",
    "print('Balance before transfer:')\n",
    "print('  ',names[names.index(ourteam)],': ',coins[names.index(ourteam)])\n",
    "\n",
    "rest_initiatetransation(url, ourteam, 'FaoTom', 100)\n",
    "time.sleep(10)\n",
    "rest_claimtransation(url,ourteam)\n",
    "\n",
    "teams = rest_teamsandcoins(url)\n",
    "names = list(teams.keys())\n",
    "coins = list(teams.values())\n",
    "\n",
    "print('\\nBalance after tansaction')\n",
    "print('  ',names[names.index(ourteam)],': ',coins[names.index(ourteam)])"
   ]
  },
  {
   "cell_type": "markdown",
   "metadata": {},
   "source": [
    "### 4.1.2 What is the maximum number of transactions one given team can add to the Block Chain in one day? "
   ]
  },
  {
   "cell_type": "markdown",
   "metadata": {},
   "source": [
    "To find the maximum number of transaction we tried different methods:"
   ]
  },
  {
   "cell_type": "code",
   "execution_count": 9,
   "metadata": {},
   "outputs": [],
   "source": [
    "'''BRUTEFORCE'''\n",
    "# this method just makes a transaction every 10 seconds and updates a counter\n",
    "bruteforce = False\n",
    "i = 0\n",
    "\n",
    "while(bruteforce):\n",
    "    rest_initiatetransation(url, ourteam, 'genesis')\n",
    "    time.sleep(10)\n",
    "    rest_claimtransation(url,ourteam)\n",
    "    \n",
    "    teams = rest_teamsandcoins(url)\n",
    "    names = list(teams.keys())\n",
    "    coins = list(teams.values())\n",
    "\n",
    "    print(i,':',names[names.index(ourteam)],': ',coins[names.index(ourteam)])\n",
    "    i = i + 1"
   ]
  },
  {
   "cell_type": "code",
   "execution_count": 10,
   "metadata": {},
   "outputs": [],
   "source": [
    "'''TRYING TO PARALLELIZE IT USING MULTIPROCESSING'''\n",
    "# this method finds the available accounts we can steal from an use the multiprocess library to \n",
    "# steal from them in parallel\n",
    "multi = False\n",
    "i = 0\n",
    "\n",
    "while (multi):\n",
    "    teams = rest_teamsandcoins(url)\n",
    "    names = np.array(list(teams.keys()))\n",
    "    coins = np.array(list(teams.values()))\n",
    "    print(i,':',names[np.where(names == ourteam)],': ',coins[np.where(names == ourteam)])\n",
    "    availableteams = np.delete(names[coins > 100],np.where(names[coins > 100] == ourteam))\n",
    "    for enemy in availableteams:\n",
    "        p1 = multiprocessing.Process(target=rest_initiatetransation,args=(url,ourteam,enemy))\n",
    "        p1.start()\n",
    "    \n",
    "    time.sleep(10)\n",
    "    p1.join()\n",
    "    p1.terminate()\n",
    "    p1.close()\n",
    "    rest_claimtransation(url,ourteam)\n",
    "    i = i + 1\n",
    "    "
   ]
  },
  {
   "cell_type": "code",
   "execution_count": 11,
   "metadata": {},
   "outputs": [],
   "source": [
    "'''NEGATIVE THEFT IDEA'''\n",
    "# this method instead of stealing a certain amount from accounts, makes in parallel instances from all the\n",
    "# available accounts to ours of a negative amount\n",
    "negamulti = False\n",
    "i = 0\n",
    "\n",
    "while(negamulti):\n",
    "    teams = rest_teamsandcoins(url)\n",
    "    names = np.array(list(teams.keys()))\n",
    "    coins = np.array(list(teams.values()))\n",
    "    print(i,':',names[np.where(names == ourteam)],': ',coins[np.where(names == ourteam)])\n",
    "    availableteams = np.delete(names[coins > 100],np.where(names[coins > 100] == ourteam))\n",
    "    for enemy in availableteams:\n",
    "        p1 = multiprocessing.Process(target=rest_initiatetransation,args=(url,enemy,ourteam,-100,))\n",
    "        p1.start()\n",
    "    p1.join()\n",
    "    p1.terminate()\n",
    "    p1.close()\n",
    "    i = i + 1\n",
    "    for enemy in availableteams:\n",
    "        rest_claimtransation(url,enemy)\n",
    "        rest_claimtransation(url,ourteam)"
   ]
  },
  {
   "cell_type": "markdown",
   "metadata": {},
   "source": [
    "The bruteforce method is that straightforward, eventually we would expect some error to show up but until now it didn't, the amount of transactions appears to be only limited by the **Proof Of Time** rule:\n",
    "$$\\text{Maximum number of transactions} = \\frac{\\text{# seconds in a day}}{10}=\\frac{24*3600}{10} = 8640$$\n",
    "\n",
    "The following two methods are attemps to by-pass the **Proof Of Time** 10-seconds block:\n",
    "* Using multiprocess it was tested if multiple transaction could be made by spawning different terminal shells so that the maximum number of transaction would be higher and dependent on the number of available accounts too, however the error: ``{\"msg\": \"accepted\"}{\"msg\": \"claim too early - deleted your request\"}`` appeared anyway.\n",
    "\n",
    "* The **Proof Of Time** block must then be linked to the accounts who steals, then a way to parallelize the instances would be simply require to make instances from the other accounts of a negative-value amount. This way each parallelized instance is made from a different account. Sadly the error ``{\"msg\": \"negative or zero values are forbidden\"}`` showed up, telling us we can make a transacion of negative or zero values"
   ]
  },
  {
   "cell_type": "markdown",
   "metadata": {},
   "source": [
    "### 4.2 The server has a function to compute a hash of a block in the Block Chain: \n",
    "<img src=\"https://i.ibb.co/Lnr32nS/Screenshot-at-2021-06-02-21-01-28.png\" width=\"800\" height=\"600\"/>"
   ]
  },
  {
   "cell_type": "markdown",
   "metadata": {},
   "source": [
    "### 4.2.1 Explain what this function does and why is this ‘the key’ for Block Chain technology? "
   ]
  },
  {
   "cell_type": "markdown",
   "metadata": {},
   "source": [
    "### 4.2.2 If you have the knowledge of the hash function, how can you validate the contents of the Block Chain you received using a GET request to make sure, nobody has tampered with it? You don’t need to implement it! Explain the algorithm to validate a Block Chain!"
   ]
  },
  {
   "cell_type": "markdown",
   "metadata": {},
   "source": [
    "### 4.2.3 Why might the GET REST API run into scalability problems? \n",
    "Express the scalability behaviour of execution times of GET and POST requests in Big O notation in relation to the number of transactions recorded in the Block Chain! Draw execution time vs transactions for GET and POST requests. "
   ]
  },
  {
   "cell_type": "markdown",
   "metadata": {},
   "source": [
    "### 4.2.4 If the Crypto server goes down, the way it is implemented it loses the current account balances. How can the server recompute the account balances after a restart from the saved Block Chain? "
   ]
  },
  {
   "cell_type": "markdown",
   "metadata": {},
   "source": [
    "### 4.2.5 What are the advantages of using a REST API and JSON in a client-server architecture? What are possible disadvantages? "
   ]
  },
  {
   "cell_type": "code",
   "execution_count": null,
   "metadata": {},
   "outputs": [],
   "source": []
  }
 ],
 "metadata": {
  "interpreter": {
   "hash": "31f2aee4e71d21fbe5cf8b01ff0e069b9275f58929596ceb00d14d90e3e16cd6"
  },
  "kernelspec": {
   "display_name": "Python 3",
   "language": "python",
   "name": "python3"
  },
  "language_info": {
   "codemirror_mode": {
    "name": "ipython",
    "version": 3
   },
   "file_extension": ".py",
   "mimetype": "text/x-python",
   "name": "python",
   "nbconvert_exporter": "python",
   "pygments_lexer": "ipython3",
   "version": "3.8.5"
  }
 },
 "nbformat": 4,
 "nbformat_minor": 5
}
