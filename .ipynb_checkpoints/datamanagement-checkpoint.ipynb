{
 "cells": [
  {
   "cell_type": "markdown",
   "id": "0e9457e3",
   "metadata": {},
   "source": [
    "# Final assignment of “Management and Analysis of Physics Datasets”- Part 2"
   ]
  },
  {
   "cell_type": "markdown",
   "id": "95c5cc0b",
   "metadata": {},
   "source": [
    "#### Gerardo Carmona\n",
    "#### Hilario Capettini\n",
    "#### Saverio Monaco"
   ]
  },
  {
   "cell_type": "markdown",
   "id": "02720905",
   "metadata": {},
   "source": [
    "## Fun Exercise  \n",
    "You might have seen this kind of puzzles on social media. It should be straight-forward for you to understand which operations connect the two numbers  before the '=' sign. What is the result of the $\\boldsymbol{?}$ field? Show proof for each line!\n",
    "\n",
    "$$\\begin{align*}& 1 + 2 = 3 \\\\ & 2 + 3 = 5 \\\\ & 3 + 7 = 4 \\\\ & 4 + 5 = \\space\\boldsymbol{?} \\\\ & 5 + 9 = 12\\end{align*}$$"
   ]
  },
  {
   "cell_type": "markdown",
   "id": "0c74cc41",
   "metadata": {},
   "source": [
    "### SOLUTION\n",
    "If we rewrite the digits as binary, we can easily guess the actual operation:\n",
    "$$\n",
    "\\begin{align}\n",
    "1 + 2 &= 3&&: &&f(01,10)&& &&=11\\\\\n",
    "2 + 3 &= 5&&: &&f(10,11)&& &&=101\\\\\n",
    "3 + 7 &= 4&&: &&f(011,111)&& &&=100\\\\\n",
    "4 + 5 &=\\ ?&&: &&f(100,101)&& &&=\\ ?\\\\\n",
    "5 + 9 &= 12&&: &&f(0101,1001)&& &&=1100\n",
    "\\end{align}\n",
    "$$\n",
    "For all **but the second expression**, we can replace $f(a,b)$ with $a\\oplus b$, thus obtaining $100\\oplus 101 = 001 = 1$ for \"$4+5$\"."
   ]
  },
  {
   "cell_type": "code",
   "execution_count": 1,
   "id": "79d5c5ed",
   "metadata": {},
   "outputs": [],
   "source": [
    "#TODO: What's wrong with the second expression?"
   ]
  },
  {
   "cell_type": "markdown",
   "id": "530f96da",
   "metadata": {},
   "source": [
    "## 1 Redundancy\n",
    "We  are  programming  a  file  based  RAID-4  software  algorithm.  For  this purpose  we  are  converting  a  single  input  (**raid4.input**)  file  into  four  data files ```raid4.0,raid4.1,raid4.2,raid4.3 ```   and  one  parity  file  ```raid4.4``` -  the four data and one parity file we call ‘stripe files’. \n",
    "\n",
    "The input file can be downloaded from: \n",
    "http://apeters.web.cern.ch/apeters/pd2021/raid4.input\n",
    "\n",
    "To do this we are reading in a loop sequentially blocks of four bytes from the input file until the whole file is read:\n",
    "* in  each  loop  we  write  one  of  the  four  read  bytes  round-robin  to  each  data  file, compute  the  parity  of  the  four  input  bytes  and  write  the  result  into  the  fifth parity file.  ( see the drawing for better understanding ) \n",
    "\n",
    "* we continue until all input data has been read. If the last bytes read from the input file  are  not  filling  four  bytes,  we  consider  the  missing  bytes  as  zero  for  the  parity computation.\n",
    "\n",
    "#### Input File (horizontal)\n",
    "**raid4.input - total size 170619 bytes**<br>\n",
    "(number in cell = byte offset in file)\n",
    "\n",
    "| 0 | 1 | 2 | 3 | 4 | 5 | 6 | 7 | 8 | 9 | 10 | 11 | 12 | ... | ... | 170618 | \n",
    "|---|---|---|---|---|---|---|---|---|---|---|---|---|---|---|---|\n",
    "\n",
    "#### Output File (vertical)\n",
    "(number in cell = byte offset in file, p0,1,2... are the row-wise parities)\n",
    "\n",
    "| raid4.0 | raid4.1 | raid4.2 | raid4.3 | raid4.4 |\n",
    "|---|---|---|---|---|\n",
    "| 0 | 1 | 2 | 3 | p0 |\n",
    "| 4 | 5 | 6 | 7 | p1 |\n",
    "| 8 | 9 | 10 | 11 | p2 |\n",
    "| 12 | 13 | 14 | 15 | p3 |\n",
    "| ... | ... | ... | ... | ... |\n",
    "\n",
    "#### Stripe parity\n",
    "(column wise parity)\n",
    "\n",
    "| q0=0^4^8^12 | q1 | q2 | q3 | q4 |\n",
    "|---|---|---|---|---|"
   ]
  },
  {
   "cell_type": "code",
   "execution_count": 2,
   "id": "dbcc0152",
   "metadata": {},
   "outputs": [],
   "source": [
    "import numpy as np\n",
    "\n",
    "def get_arr(path):\n",
    "    with open(path,'r+b') as file:\n",
    "        v = np.frombuffer(file.read(),dtype = np.uint8)\n",
    "    return v\n",
    "\n",
    "\n",
    "def post_arr(arr, path):\n",
    "    with open(path,'w+b') as file:\n",
    "        file.write(arr.tobytes())\n",
    "    return\n",
    "\n",
    "\n",
    "def xor_arr(matrix):\n",
    "    # Neutral xor array\n",
    "    v = np.zeros(len(matrix[0]),dtype = np.uint8)\n",
    "    # Applying bitwise_xor between the matrix rows\n",
    "    for arr in matrix:\n",
    "        v = np.bitwise_xor(v,arr)\n",
    "    return v\n",
    "\n"
   ]
  },
  {
   "cell_type": "markdown",
   "id": "f5ed8c70",
   "metadata": {},
   "source": [
    "### 1.1 Write a program (C,C++, R or Python), which produces four striped data and one parity file as described above using the given input file. \n",
    "**hint:** if you have a problem programming this yourself, you can download the core program in C++ from http://apeters.web.cern.ch/apeters/pd2021/raid4.cSee the explanations in the beginning how to compile and run it. You have to add the parity computations at the IMPLEMENT THIS sections! If you can’t compile or run it, you can still fill in the missing implementation! "
   ]
  },
  {
   "cell_type": "code",
   "execution_count": 3,
   "id": "ec441511",
   "metadata": {},
   "outputs": [
    {
     "data": {
      "text/plain": [
       "array([[ 37,  80,  68,  70],\n",
       "       [ 45,  49,  46,  51],\n",
       "       [ 10,  37, 196, 229],\n",
       "       ...,\n",
       "       [ 55,  55,  51,  55],\n",
       "       [ 10,  37,  37,  69],\n",
       "       [ 79,  70,  10,   0]], dtype=uint8)"
      ]
     },
     "execution_count": 3,
     "metadata": {},
     "output_type": "execute_result"
    }
   ],
   "source": [
    "n = 4\n",
    "src_file = 'raid4.input'\n",
    "all_bytes = get_arr(src_file)\n",
    "all_bytes\n",
    "\n",
    "# We calculate how many zeros have to be added in the end\n",
    "extra = n - len(all_bytes)%n\n",
    "bytes_arr = np.hstack([all_bytes,np.zeros(extra, dtype = np.uint8)])\n",
    "\n",
    "# Reshaping array\n",
    "nrows = len(bytes_arr)//n\n",
    "ncols = n\n",
    "bytes_arr = bytes_arr.reshape((nrows,ncols))\n",
    "bytes_arr\n"
   ]
  },
  {
   "cell_type": "code",
   "execution_count": 4,
   "id": "eb5e913a",
   "metadata": {},
   "outputs": [],
   "source": [
    "# Iterate over the columns and generate the files\n",
    "for i, v in enumerate(bytes_arr.T):\n",
    "    post_arr(v, f'raid{n}.{i}')\n",
    "\n",
    "# Evaluating parity between stripes\n",
    "row_p = xor_arr(bytes_arr.T)\n",
    "\n",
    "#Store the row parity\n",
    "post_arr(row_p,f'raid{n}.{n}')"
   ]
  },
  {
   "cell_type": "code",
   "execution_count": 5,
   "id": "b3dd586c",
   "metadata": {},
   "outputs": [
    {
     "data": {
      "text/plain": [
       "array([119,   1,  14, ...,   4,  79,   3], dtype=uint8)"
      ]
     },
     "execution_count": 5,
     "metadata": {},
     "output_type": "execute_result"
    }
   ],
   "source": [
    "row_p.T"
   ]
  },
  {
   "cell_type": "markdown",
   "id": "eae38ea1",
   "metadata": {},
   "source": [
    "### 1.2 Extend the program to compute additionally the parity of all bytes within one stripe file. \n",
    "You can say, that the computed column-wise parity acts as a ________  for each stripe file. Compute the size overhead by comparing the size of all 5 stripe files with the original file.  The size overhead is ________ % !"
   ]
  },
  {
   "cell_type": "code",
   "execution_count": 6,
   "id": "0219ce1d",
   "metadata": {},
   "outputs": [],
   "source": [
    "# We now wish to generate an extra file with the parity of each column\n",
    "ext_bytes = np.vstack((bytes_arr.T, row_p)).T\n",
    "\n",
    "# Evaluating parity for each stripe\n",
    "col_p = xor_arr(ext_bytes)\n",
    "\n",
    "# Store the resulting parity\n",
    "post_arr(col_p,f'raid{n}.col')"
   ]
  },
  {
   "cell_type": "markdown",
   "id": "95100dcc",
   "metadata": {},
   "source": [
    "### 1.3 What is the 5-byte parity value if you write it it in hexadecimal format like $P^5$  =0x[q0][q1][q2][q3][q4], where the [qx] are the hexadecimal parity bytes computed by xor-ing all bytes in each stripe file.  \n",
    "A byte in hexadecimal has two digits and you should add leading 0 if necessary.<br> \n",
    "Examples:\n",
    "* a byte with contents 1 in hexadecimal is 0x01. A byte with contents 255in hexadecimal is 0xff.\n",
    "* a possible 5-byte parity would be P5 = 0 x 01 0c 1a 2f 3e"
   ]
  },
  {
   "cell_type": "code",
   "execution_count": 7,
   "id": "11f1e05a",
   "metadata": {},
   "outputs": [],
   "source": [
    "# TODO: I'm not sure how to do this lol"
   ]
  },
  {
   "cell_type": "markdown",
   "id": "4b40bbdc",
   "metadata": {},
   "source": [
    "### 1.4 If you create a sixth stripe file, which contains the row-wise parities of the five stripe files, what would be the contents of this file? "
   ]
  },
  {
   "cell_type": "markdown",
   "id": "5412b930",
   "metadata": {},
   "source": [
    "Write down the equation for R, which is the XOR between all data stripes D0,D1,D2,D3 and the parity P. Remember P was the parity of D0,D1,D2,D3! Reduce the equation removing P from it to get the answer about the contents! "
   ]
  },
  {
   "cell_type": "markdown",
   "id": "eedd6f1e",
   "metadata": {},
   "source": [
    "### SOLUTION\n",
    "$$\n",
    "\\begin{align}\n",
    "R &= D_0\\oplus D_1\\oplus D_2\\oplus D_3\\oplus P\\\\\n",
    "&= P\\oplus P\\\\\n",
    "&= \\mathbf{0}\n",
    "\\end{align}\n",
    "$$\n",
    "since $a\\oplus b$ evaluates to $0$ when $a$ and $b$ have the same value, which is of course the case for every row in the expression above."
   ]
  },
  {
   "cell_type": "markdown",
   "id": "16d012c6",
   "metadata": {},
   "source": [
    "### 1.5 After some time you recompute the 5-byte parity value as in 1.3. Now the result is $P^5$ = 0x a5 07 a0 01 9e. Something has been corrupted. You want to reconstruct the original file raid4.input using the 5 stripe files.\n",
    "Describe how you can recreate the original data file. Which stripe files do you use and how do you recreate the original data file with the correct size? "
   ]
  },
  {
   "cell_type": "code",
   "execution_count": 8,
   "id": "46f45d26",
   "metadata": {},
   "outputs": [],
   "source": [
    "def correct(col_parity, new_col_parity, file_key):\n",
    "    # Both col_p and new_col_p are expected as bytes objects\n",
    "    col_p = np.frombuffer(bytes(col_parity),dtype = np.uint8)\n",
    "    new_p = np.frombuffer(new_col_parity,dtype = np.uint8)\n",
    "    mask = col_p != new_p\n",
    "\n",
    "    # How many parity values have changed?\n",
    "    wrong = np.arange(len(col_p))[mask]\n",
    "    right = np.arange(len(col_p))[~mask]\n",
    "    \n",
    "    # We cannot correct if more than one stripe is damaged or no stripe damage was detected.\n",
    "    if len(wrong) != 1:\n",
    "        message = 'More than one stripe has corrupted elements. Nothing can be done.'\\\n",
    "            if wrong else 'Nothing to correct.'\n",
    "        print(message)\n",
    "        return None    \n",
    "\n",
    "    # If only one stripe is damaged then we can proceed to bit correction.\n",
    "    # Retrieve as an array of row vectors those stripes to be evaluated\n",
    "    w = np.vstack([get_arr(f'{file_key}.{i}') for i in right])\n",
    "    v = xor_arr(w)\n",
    "    \n",
    "    # Time to correct\n",
    "    [j] = wrong\n",
    "    path = f'{file_key}.{j}'\n",
    "    post_arr(v,path)\n",
    "    print(f'Successfully rewrote {path}')\n",
    "    \n",
    "    return v\n"
   ]
  },
  {
   "cell_type": "code",
   "execution_count": 9,
   "id": "fbe3f44c",
   "metadata": {},
   "outputs": [
    {
     "data": {
      "text/plain": [
       "b'\\xa5\\x07\\xa0\\x01\\x9e'"
      ]
     },
     "execution_count": 9,
     "metadata": {},
     "output_type": "execute_result"
    }
   ],
   "source": [
    "p_5 = 0xa5_07_a0_01_9e.to_bytes(5,'big')\n",
    "p_5"
   ]
  },
  {
   "cell_type": "code",
   "execution_count": 10,
   "id": "a59225cd",
   "metadata": {},
   "outputs": [
    {
     "name": "stdout",
     "output_type": "stream",
     "text": [
      "Successfully rewrote raid4.3\n"
     ]
    },
    {
     "data": {
      "text/plain": [
       "array([ 70,  51, 229, ...,  55,  69,   0], dtype=uint8)"
      ]
     },
     "execution_count": 10,
     "metadata": {},
     "output_type": "execute_result"
    }
   ],
   "source": [
    "correct(bytes(col_p),p_5,'raid4')"
   ]
  },
  {
   "cell_type": "code",
   "execution_count": null,
   "id": "01a3d31e",
   "metadata": {},
   "outputs": [],
   "source": []
  },
  {
   "cell_type": "markdown",
   "id": "b8621265",
   "metadata": {},
   "source": [
    "## 2 Cryptography\n",
    "The Caesar cipher is named for Julius Caesar, who used an alphabet where decrypting would shift three letters to the left. A friend has emailed you the following text: K]amua!trgpy. She told you that her encryption algorithm works similar to the Caesar cipher:\n",
    "* to  each ASCI  value  of  each  letter  I  add  a  secret keyvalue.  (note that ASCII values range from 0 to 255) \n",
    "* additionally  to  make  it  more  secure  I  add  a  variable  (so  called) noncevalue to each ASCII number.\n",
    "\n",
    "The nonce start value is 5 for the first character of the message. For each following character add 1 to the nonce of the previous character, e.g. for the second letter the nonce added is 6, for the third letter it is 7 aso. "
   ]
  },
  {
   "cell_type": "markdown",
   "id": "eaf4e7b7",
   "metadata": {},
   "source": [
    "### 2.1 Is this symmetric or asymmetric encryption and explain why?"
   ]
  },
  {
   "cell_type": "markdown",
   "id": "751d1f37",
   "metadata": {},
   "source": [
    "<font color='royalblue'>Since no private key has been created this encryption method is symmetric also The sender does not need the public key of the receiver and in order to decript it.</font>"
   ]
  },
  {
   "cell_type": "markdown",
   "id": "20aaa10d",
   "metadata": {},
   "source": [
    "### 2.2 Write a small brute force program which tests keys from 0..255 and use a dictionary approach to figure out the original message. \n",
    "In Python you can use the ord() function to get an integer representation of a character and the chr() to retrieve a character string from an integer!"
   ]
  },
  {
   "cell_type": "code",
   "execution_count": 11,
   "id": "ff720476",
   "metadata": {},
   "outputs": [
    {
     "name": "stdout",
     "output_type": "stream",
     "text": [
      "WARNING: pip is being invoked by an old script wrapper. This will fail in a future version of pip.\n",
      "Please see https://github.com/pypa/pip/issues/5599 for advice on fixing the underlying issue.\n",
      "To avoid this problem you can invoke Python with '-m pip' instead of running pip directly.\n",
      "Defaulting to user installation because normal site-packages is not writeable\n",
      "Collecting pyenchant\n",
      "  Downloading pyenchant-3.2.0-py3-none-any.whl (55 kB)\n",
      "\u001b[K     |████████████████████████████████| 55 kB 756 kB/s \n",
      "\u001b[?25hInstalling collected packages: pyenchant\n",
      "Successfully installed pyenchant-3.2.0\n",
      "\u001b[33mWARNING: You are using pip version 21.1.1; however, version 21.1.2 is available.\n",
      "You should consider upgrading via the '/usr/bin/python3 -m pip install --upgrade pip' command.\u001b[0m\n"
     ]
    }
   ],
   "source": [
    "!pip install pyenchant\n",
    "import re, string, enchant\n",
    "d = enchant.Dict(\"en_US\")"
   ]
  },
  {
   "cell_type": "code",
   "execution_count": 12,
   "id": "fdbda783",
   "metadata": {},
   "outputs": [],
   "source": [
    "'''This function will be used in the decrypt method'''\n",
    "# If the ASCII character is over 255, it will bring it back between 0 and 255 cycling it\n",
    "# for example if ord(letter) = 260 it will be transformed to 4\n",
    "# (assuming the range being from 0 to 255)\n",
    "def reshift(letter,ascimin,ascimax):\n",
    "    if ord(letter) < ascimin:\n",
    "        return chr(ord(letter) - ascimin + ascimax + 1)\n",
    "    elif ord(letter) > ascimax:\n",
    "        return chr(-ascimax + ord(letter) + ascimin - 1)\n",
    "    else:\n",
    "        return letter\n",
    "\n",
    "'''Decryption function'''\n",
    "def decrypt(mex,nonce0,shift,ascimin,ascimax):\n",
    "    word = []\n",
    "    nonce = nonce0 # the starting value of the nonce value\n",
    "    \n",
    "    for letter in mex:\n",
    "        # Since we are decrypting and not encrypting, nonce must be negative\n",
    "        shiftedchr = chr(ord(letter) - nonce + shift)\n",
    "        \n",
    "        # Here we are eventually correcting the ASCII number if it is higher ascimax or lower than ascimin\n",
    "        # because of the shifting\n",
    "        correctedshiftedchr = reshift(reshift(shiftedchr,ascimin,ascimax),ascimin,ascimax)\n",
    "        word.append(correctedshiftedchr)\n",
    "        nonce = nonce + 1 #  for each letter nonce grows by 1\n",
    "        \n",
    "    return word\n",
    "\n",
    "'''Setting the descypted proposals'''\n",
    "# Sicne we need to check if the words belong to an English dictionary, we need to preprocess\n",
    "# the result of decrypt function, we make everything lowercase, split the words whenever we find a space\n",
    "# character and removing every puntuation character\n",
    "def stringtowords(phrase):    \n",
    "    clear_word = ''\n",
    "    for char in phrase:\n",
    "        if char not in string.punctuation:\n",
    "            clear_word += char\n",
    "    return clear_word.lower().split()\n",
    "    "
   ]
  },
  {
   "cell_type": "code",
   "execution_count": 13,
   "id": "1fe263f8",
   "metadata": {},
   "outputs": [
    {
     "name": "stdout",
     "output_type": "stream",
     "text": [
      "10 : padova rocks\n",
      "246 : mpbm ow\n"
     ]
    }
   ],
   "source": [
    "ascimax = 255\n",
    "ascimin = 0\n",
    "mex = 'K]amua!trgpy'\n",
    "nonce0 = 5\n",
    "\n",
    "for i in range(ascimin,ascimax):\n",
    "    decrypted = decrypt(mex,nonce0,i,ascimin,ascimax)\n",
    "    words = stringtowords(decrypted)\n",
    "    for word in words:\n",
    "        # In the dictionary valid words are single digits numbers and letters, this avoids getting those\n",
    "        # samples\n",
    "        if len(word) != 1:\n",
    "            # Some special non-printable characters break the function d.check()\n",
    "            try:\n",
    "                d.check(word)\n",
    "                if d.check(word) == True:\n",
    "                    print(i,':',' '.join(words))\n",
    "            except:\n",
    "                pass"
   ]
  },
  {
   "cell_type": "markdown",
   "id": "0c7ec97b",
   "metadata": {
    "tags": []
   },
   "source": [
    "What is the decryption algorithm/formula to be used?"
   ]
  },
  {
   "cell_type": "markdown",
   "id": "d4a8b2e4",
   "metadata": {},
   "source": [
    "The used key is <font color='royalblue'>10</font> , the original message text is <font color='royalblue'>Padova rocks<font> ! "
   ]
  },
  {
   "cell_type": "markdown",
   "id": "0def6fbd",
   "metadata": {},
   "source": [
    "## 3 Object Storage\n",
    "In an object storage system we are mapping objects by name to locations using a hash table.  Imagine we have a system with ten hard disks (10 locations). We enumerate the location of a file using an index of the hard disk [0..9].\n",
    "\n",
    "<img src=\"https://i.ibb.co/dPLWgCs/Screenshot-at-2021-06-02-20-43-04.png\" width=\"800\" height=\"600\"/>\n",
    "\n",
    "Our hash algorithm for placement produces hashes, which are distributed uniform over the value space for a flat input key distribution.  \n",
    "\n",
    "We want now to simulate the behaviour of our hash algorithmwithout the need to actually compute any hash value.\n",
    "\n",
    "Instead  of  using  real  filenames,  which  we  would  hash  and  map  using  a hash  table  to  a  location  (as  we  did  in  the  exercise),  we  are  ‘computing’  a location for ‘any’ file by generating a random number for the location in  the  range  [0..9]  to  assign  a  file  location.  To  place  a  file  in  the  storage system  we  use  this  random  location  where  the  file  will  be  stored  and consumes space. \n",
    "\n",
    "Assume each disk has 1TB of space, we have 10TB in total.\n",
    "\n",
    "Place as many files of 10GB size as possible to hard disks choosing random locations until one hard disk is full. <br> **Hint:** a hard disk is full once you have stored hundred 10GB files."
   ]
  },
  {
   "cell_type": "markdown",
   "id": "6a2610a5",
   "metadata": {},
   "source": [
    "### 3.1Write a program in Python, R or using ROOT, which simulates the placement of 10GB files to random locations and account the used space on each hard disk. Once the first hard disk is full, you stop to place files.\n",
    "\n",
    "Remark: the distribution changes every time if the random generator is not seeded always with the same start value. Nevertheless both ways are accepted! \n",
    "\n",
    "Possibly visualise the distribution similar to the histogram above."
   ]
  },
  {
   "cell_type": "code",
   "execution_count": 14,
   "id": "07e2aea7",
   "metadata": {},
   "outputs": [],
   "source": [
    "import random\n",
    "import matplotlib.pyplot as plt\n",
    "import numpy as np\n",
    "random.seed(1234)\n",
    "choose = np.random.choice\n",
    "\n",
    "def replace(a,b,i):\n",
    "    a[i] = b\n",
    "\n",
    "def place_files(N_disks, disk_size, file_size, file_count = True):\n",
    "    # Initially available space (translated to files)\n",
    "    eff_size = disk_size//file_size\n",
    "    max_new_files = np.repeat(eff_size,N_disks)\n",
    "\n",
    "    # No file has been placed yet\n",
    "    placed_files = 0\n",
    "\n",
    "    while np.all(max_new_files > 0):\n",
    "        # At least how many more files have to be placed to fill one of the hard disks?\n",
    "        min_max_files = max_new_files.min()\n",
    " \n",
    "        # On average, how many placements would have to be made for this to be reached?\n",
    "        avg_new_files = (3*N_disks//4)*min_max_files\n",
    "\n",
    "        # Generate an array for random placement of that many files\n",
    "        placings = choose(range(N_disks),avg_new_files)\n",
    "\n",
    "        # Count how many files will be added to each disk\n",
    "        keys, counts = np.unique(placings, return_counts=True)\n",
    "\n",
    "        # Rebuild counts array, in case not all disks are present\n",
    "        new_files = np.zeros(N_disks,dtype = np.int64)\n",
    "        [replace(new_files,c,i) for i,c in zip(keys,counts)]#TODO: use a more numpythonic way\n",
    "        \n",
    "        # did we miss?\n",
    "        while np.any(new_files > max_new_files):\n",
    "            # by at least how many files?\n",
    "            excess = new_files - max_new_files\n",
    "            excess = excess[excess<0].sum()\n",
    "            pl_ex = placings[excess:]\n",
    "            # Count how many files will be removed from each disk\n",
    "            keys, counts = np.unique(placings, return_counts=True)\n",
    "            # Rebuild counts array, in case not all disks are present\n",
    "            rem_files = np.zeros(N_disks,dtype = np.int64)\n",
    "            [replace(rem_files,c,i) for i,c in zip(keys,counts)]#TODO: use a more numpythonic way\n",
    "            new_files -= rem_files\n",
    "\n",
    "\n",
    "        # How much space is left now?\n",
    "        max_new_files -= new_files\n",
    "\n",
    "        # How many files have been placed in total?\n",
    "        placed_files += new_files.sum()\n",
    "\n",
    "    free_space = max_new_files*file_size\n",
    "    #TODO: exceptional case to avoid loop. e. g. file size is 0.\n",
    "    if file_count: return free_space, placed_files\n",
    "    # If file count is not requested, then we care about the used space\n",
    "    used_space = N_disks*disk_size - sum(free_space)\n",
    "    return used_space\n",
    "\n",
    "\n",
    "def plot_usage(disk_size,free_space):\n",
    "    N_disks = len(free_space)\n",
    "    used = [(disk_size - f)/1024 for f in free_space]\n",
    "    plt.bar(range(N_disks),used, width = 0.98, tick_label = range(N_disks), color = 'gray')\n",
    "    plt.title('Used space on each disk')\n",
    "    plt.xlabel('harddisk')\n",
    "    plt.ylabel('Used [GB]')\n",
    "    plt.show()\n",
    "\n"
   ]
  },
  {
   "cell_type": "code",
   "execution_count": 15,
   "id": "47469cca",
   "metadata": {},
   "outputs": [
    {
     "data": {
      "image/png": "[encoded data removed]",
      "text/plain": [
       "<Figure size 432x288 with 1 Axes>"
      ]
     },
     "metadata": {
      "needs_background": "light"
     },
     "output_type": "display_data"
    }
   ],
   "source": [
    "N_disks = 10; disk_size = 1024*1024 # ten 1TB = 1048576MB disks\n",
    "file_size = 10*1024 # 10GB files\n",
    "\n",
    "free_space, placed_files = place_files(N_disks,disk_size,file_size)\n",
    "\n",
    "plot_usage(disk_size,free_space)"
   ]
  },
  {
   "cell_type": "markdown",
   "id": "b0668fd1",
   "metadata": {},
   "source": [
    "### 3.1a How many files did you manage to place?"
   ]
  },
  {
   "cell_type": "code",
   "execution_count": 16,
   "id": "157c4da3",
   "metadata": {},
   "outputs": [
    {
     "name": "stdout",
     "output_type": "stream",
     "text": [
      "826 files were successfully placed.\n"
     ]
    }
   ],
   "source": [
    "print(f'{placed_files} files were successfully placed.')"
   ]
  },
  {
   "cell_type": "markdown",
   "id": "75ed5c18",
   "metadata": {},
   "source": [
    "### 3.1b What is the percentage of total used space on all hard disks in the moment the first disk is full?"
   ]
  },
  {
   "cell_type": "code",
   "execution_count": 17,
   "id": "e38469c5",
   "metadata": {},
   "outputs": [
    {
     "name": "stdout",
     "output_type": "stream",
     "text": [
      "81.05% of the total available space was used.\n"
     ]
    }
   ],
   "source": [
    "total_space = N_disks*disk_size\n",
    "used_percentage = 100*(total_space-sum(free_space))/total_space\n",
    "print(f'{round(used_percentage,2)}% of the total available space was used.')"
   ]
  },
  {
   "cell_type": "markdown",
   "id": "3ed9ed37",
   "metadata": {},
   "source": [
    "### 3.2 Repeat the same task placing 1GB files until the first hard disk is full."
   ]
  },
  {
   "cell_type": "code",
   "execution_count": 18,
   "id": "f8ad39ba",
   "metadata": {},
   "outputs": [
    {
     "data": {
      "image/png": "[encoded data removed]",
      "text/plain": [
       "<Figure size 432x288 with 1 Axes>"
      ]
     },
     "metadata": {
      "needs_background": "light"
     },
     "output_type": "display_data"
    }
   ],
   "source": [
    "file_size = 1024 # 1GB files\n",
    "free_space, placed_files = place_files(N_disks,disk_size,file_size)\n",
    "plot_usage(disk_size,free_space)"
   ]
  },
  {
   "cell_type": "markdown",
   "id": "f68f7fe1",
   "metadata": {},
   "source": [
    "### 3.2a How many files did you manage to place?"
   ]
  },
  {
   "cell_type": "code",
   "execution_count": 19,
   "id": "f69e2fda",
   "metadata": {},
   "outputs": [
    {
     "name": "stdout",
     "output_type": "stream",
     "text": [
      "9849 files were successfully placed.\n"
     ]
    }
   ],
   "source": [
    "print(f'{placed_files} files were successfully placed.')"
   ]
  },
  {
   "cell_type": "markdown",
   "id": "2e5fbc07",
   "metadata": {},
   "source": [
    "### 3.2b What is the percentage of total used space on all hard disks in the moment the first disk is full? "
   ]
  },
  {
   "cell_type": "code",
   "execution_count": 20,
   "id": "9d6c6cc2",
   "metadata": {},
   "outputs": [
    {
     "name": "stdout",
     "output_type": "stream",
     "text": [
      "96.18% of the total available space was used.\n"
     ]
    }
   ],
   "source": [
    "total_space = N_disks*disk_size\n",
    "used_percentage = 100*(total_space-sum(free_space))/total_space\n",
    "print(f'{round(used_percentage,2)}% of the total available space was used.')"
   ]
  },
  {
   "cell_type": "markdown",
   "id": "f468e21d",
   "metadata": {},
   "source": [
    "### 3.3 Based on this observation: why do you think object storage typically stores fixed size blocks of 4M and not files of GBs size as a whole? (so called block storage approach) \n",
    "\n",
    "Run the same program for 4M block sizes and demonstrate the benefits"
   ]
  },
  {
   "cell_type": "markdown",
   "id": "1a3c2071",
   "metadata": {},
   "source": [
    "### SOLUTION\n",
    "To begin with, as the file size is smaller, a bigger fraction of the fullest disk can be used before stopping.\n",
    "Let each disk have the same probability of being selected for storage. Since, when using smaller blocks, the number $N$ of files is greater for a given size. As $N$ increases, a more evenly distributed placement of files is expected, therefore being able to use a larger fraction of the total space before having to stop."
   ]
  },
  {
   "cell_type": "code",
   "execution_count": 21,
   "id": "db972a24",
   "metadata": {},
   "outputs": [
    {
     "name": "stdout",
     "output_type": "stream",
     "text": [
      "2610860 files were successfully placed.\n",
      "99.6% of the total available space was used.\n"
     ]
    },
    {
     "data": {
      "image/png": "[encoded data removed]",
      "text/plain": [
       "<Figure size 432x288 with 1 Axes>"
      ]
     },
     "metadata": {
      "needs_background": "light"
     },
     "output_type": "display_data"
    }
   ],
   "source": [
    "file_size = 4 # 4MB files\n",
    "free_space, placed_files = place_files(N_disks,disk_size,file_size)\n",
    "print(f'{placed_files} files were successfully placed.')\n",
    "total_space = N_disks*disk_size\n",
    "used_percentage = 100*(total_space-sum(free_space))/total_space\n",
    "print(f'{round(used_percentage,2)}% of the total available space was used.')\n",
    "plot_usage(disk_size,free_space)"
   ]
  },
  {
   "cell_type": "markdown",
   "id": "fabdea9d",
   "metadata": {},
   "source": [
    "### 3.4. Compute the average used space on all hard disks and the standard deviation for the average used space for 10 GB and 1GB and 4M files. How is the standard deviation correlated to the block size and why?  If we now repeat such an experiment for many more (thousands) of hard disks, which kind of distribution do you get when you do a histogram of the used space of all hard disks?"
   ]
  },
  {
   "cell_type": "code",
   "execution_count": 22,
   "id": "7b668485",
   "metadata": {},
   "outputs": [
    {
     "data": {
      "image/png": "[encoded data removed]",
      "text/plain": [
       "<Figure size 432x288 with 1 Axes>"
      ]
     },
     "metadata": {
      "needs_background": "light"
     },
     "output_type": "display_data"
    },
    {
     "data": {
      "image/png": "[encoded data removed]",
      "text/plain": [
       "<Figure size 432x288 with 1 Axes>"
      ]
     },
     "metadata": {
      "needs_background": "light"
     },
     "output_type": "display_data"
    },
    {
     "data": {
      "image/png": "[encoded data removed]",
      "text/plain": [
       "<Figure size 432x288 with 1 Axes>"
      ]
     },
     "metadata": {
      "needs_background": "light"
     },
     "output_type": "display_data"
    }
   ],
   "source": [
    "# Using dask for simulation time purposes\n",
    "import dask as dk\n",
    "for file_size in [4,1024,10*1024]:\n",
    "    simulate = lambda N: dk.delayed()(\n",
    "        [dk.delayed(place_files)(N_disks,disk_size,file_size,file_count=False) for _ in range(N)]\n",
    "        ).compute()\n",
    "    sims = np.array(simulate(5000))/1024/1024\n",
    "    avg = np.average(sims)\n",
    "    std = np.std(sims)\n",
    "    plt.hist(sims, density=True)\n",
    "    unit = 'GB' if file_size >= 1024 else 'MB'\n",
    "    norm = 1 if unit == 'MB' else 1024\n",
    "    plt.title(f'Final storage use for {int(file_size/norm)}{unit} files')\n",
    "    plt.xlabel('used space [TB]')\n",
    "    plt.ylabel('density')\n",
    "    plt.show()"
   ]
  },
  {
   "cell_type": "markdown",
   "id": "5dbe9fea",
   "metadata": {},
   "source": [
    "## 4 Rest APIs & Block Chain Technology "
   ]
  },
  {
   "cell_type": "markdown",
   "id": "b8d2678b",
   "metadata": {},
   "source": [
    "Under https://pansophy.app:8443 you find a Crypto Coin Server exporting a simple Block Chain.\n",
    "\n",
    "You can open this URL in any web browser to see the current Block Chain status and the account information. At the time of writing the initial birth account of the Block Chain contained 1M coins ( “genesis” : 1000000 ) : \n",
    "\n",
    "<img src=\"https://i.ibb.co/nPNksZt/Screenshot-at-2021-06-02-21-01-56.png\" width=\"800\" height=\"600\"/>\n",
    "\n",
    "The REST responses are given in JSON format. Our REST API uses secure HTTP protocol and it is based on two HTTP methods:\n",
    "\n",
    "GET\n",
    "\n",
    "POST \n",
    "\n",
    "GET requests are used, to retrieve any kind of information, POST requests are used to change state in the server. \n",
    "\n",
    "The task is to implement a client and use a simple REST API to submit transactions to the Block Chain. Your goal is to book coins from other people’s accounts to your own account.  The server implements a Proof Of Time algorithm. To add a transaction to move coins to your account, you have to submit a merit request and you have to let time pass before you can send a claim request to execute your transaction on the Block Chain. If you claim your transaction too fast after a merit request, your request is discarded. The server enforces a Proof Of Time of a minimum of 10 seconds!\n",
    "\n",
    "(I didn't add the documentation, seems useless to report it here)"
   ]
  },
  {
   "cell_type": "code",
   "execution_count": 2,
   "id": "c9d4fe9a-851c-417d-9feb-8cef6524bcff",
   "metadata": {},
   "outputs": [],
   "source": [
    "import os\n",
    "import json\n",
    "import time"
   ]
  },
  {
   "cell_type": "code",
   "execution_count": 3,
   "id": "337e919e-f968-461e-b83b-a01a3632166e",
   "metadata": {},
   "outputs": [],
   "source": [
    "url     = 'https://pansophy.app:8443/'\n",
    "ourteam = 'GitPush'"
   ]
  },
  {
   "cell_type": "code",
   "execution_count": 4,
   "id": "37dd4deb-221f-4560-b22f-4388edebf132",
   "metadata": {},
   "outputs": [],
   "source": [
    "# If the site does not temporarely work, I saved in this file a json example:\n",
    "exfile = 'jsonex'\n",
    "\n",
    "with open(exfile, 'r') as file:\n",
    "    src = file.read().replace('\\n', '')\n",
    "data = json.loads(src)"
   ]
  },
  {
   "cell_type": "code",
   "execution_count": 5,
   "id": "77d802f7-ccc9-466e-bc10-6c0677c98e96",
   "metadata": {},
   "outputs": [
    {
     "name": "stdout",
     "output_type": "stream",
     "text": [
      "Executing:\n",
      "   curl -k https://pansophy.app:8443/ & sleep 5 ; kill $!\n",
      "\n",
      "ERROR: The site is currently NOT working\n"
     ]
    }
   ],
   "source": [
    "'''This function is just auxiliary for other functions. It returns the json of the page'''\n",
    "# url: the page: https://pansophy.app:8443/\n",
    "# sec: for how long do you want to read it\n",
    "# debug: prints the json string\n",
    "def rest_curl(url,sec = 5, verbose = True, debug = False):\n",
    "    cmd =  'curl -k ' + url + ' & sleep ' + str(sec) + ' ; kill $!'\n",
    "    \n",
    "    if verbose:\n",
    "        print('Executing:\\n  ',cmd)\n",
    "    scr = os.popen(cmd).read()\n",
    "    \n",
    "    if debug:\n",
    "        print(scr)\n",
    "    \n",
    "    if len(scr) == 0:\n",
    "        print('ERROR: The site is currently NOT working')\n",
    "        return 0\n",
    "    else:\n",
    "        return json.loads(scr)\n",
    "    \n",
    "a = rest_curl(url, debug = True)"
   ]
  },
  {
   "cell_type": "code",
   "execution_count": 6,
   "id": "7169f14b-2958-498b-8bce-e32be5302ff4",
   "metadata": {},
   "outputs": [
    {
     "name": "stdout",
     "output_type": "stream",
     "text": [
      "AC Milan 500\n"
     ]
    }
   ],
   "source": [
    "'''Returns the current situation regarding teams and their coins'''\n",
    "# offline: if the site does not work set offline=True to load a json example\n",
    "def rest_teamsandcoins(url, offline = False):\n",
    "    if offline:\n",
    "        jsn = data\n",
    "    else:\n",
    "        jsn = rest_curl(url, sec = 1, verbose = False)\n",
    "    \n",
    "    return(jsn['accounts'])\n",
    "    \n",
    "teams = rest_teamsandcoins(url, offline= True)\n",
    "\n",
    "#print(teams.keys())   # Prints the teams\n",
    "#print(teams.values()) # Prints the values\n",
    "\n",
    "# To convert to an array you can do:\n",
    "names = list(teams.keys())\n",
    "coins = list(teams.values())\n",
    "\n",
    "print(names[0], coins[0])"
   ]
  },
  {
   "cell_type": "code",
   "execution_count": 7,
   "id": "2262e537-98e1-429a-95f2-c297d17cf54a",
   "metadata": {},
   "outputs": [],
   "source": [
    "def rest_initiatetransation(url, team, stealfrom):\n",
    "    cmd = 'curl -k -X POST -H \"Content-Type: application/json\" -d \\'{\"operation\": \"merit\",\"team\": \"'+ team +'\", \"coin\": 100, \"stealfrom\": \"' + stealfrom +'\"}\\' ' + url\n",
    "    print(cmd)\n",
    "    os.system(cmd)\n",
    "    return\n",
    " \n",
    "def rest_claimtransation(url, team):\n",
    "    cmd = 'curl -k -X POST -H \"Content-Type: application/json\" -d \\'{\"operation\": \"claim\",\"team\": \"'+team+'\"}\\' ' + url\n",
    "    print(cmd)\n",
    "    os.system(cmd)"
   ]
  },
  {
   "cell_type": "markdown",
   "id": "787454c7",
   "metadata": {},
   "source": [
    "### 4.1.1 Use the REST API  and the curl command to transfer coins of the genesis or any other account on your own team account. \n",
    "You can use the -d option to POST a document. You have to indicate in your request, that the content type of the document is JSON. To do this you can add an HTTP header for this command  \n",
    "```curl ... -H”Content-Type: application/json” ...```\n",
    "\n",
    "If you prefer, you can use a Python program, doing the same HTTPS requests respecting Proof of Time.If you want to have some more fun, you can also load the current state into your Python script using GET requests and programatically steal from accounts which are reported. Be aware, that you can never steal the last coin of an account and if at the time of a claim there are not enough coins left on an account, your transaction is discarded.\n",
    "\n",
    "To you will have to add at least one successful transaction to the Block Chain. "
   ]
  },
  {
   "cell_type": "code",
   "execution_count": 12,
   "id": "db479fc6-e7f3-416f-bbaa-cc9583ac59a1",
   "metadata": {},
   "outputs": [
    {
     "name": "stdout",
     "output_type": "stream",
     "text": [
      "FaoTom :  1000\n"
     ]
    }
   ],
   "source": [
    "# Here I wanted to use the teamandcoins function to show the balance of coind before and after initiatetransation and claimtransation\n",
    "# however the site does not currently work\n",
    "\n",
    "teams = rest_teamsandcoins(url)\n",
    "names = list(teams.keys())\n",
    "coins = list(teams.values())\n",
    "\n",
    "print(names[names.index(ourteam)],': ',coins[names.index(ourteam)])"
   ]
  },
  {
   "cell_type": "code",
   "execution_count": null,
   "id": "925da4b1-76a5-4de7-9f8e-e1af7ad575b0",
   "metadata": {},
   "outputs": [],
   "source": [
    "rest_initiatetransation(url, ourteam, 'FaoTom')\n",
    "time.sleep(10)\n",
    "rest_claimtransation(url,ourteam)"
   ]
  },
  {
   "cell_type": "code",
   "execution_count": null,
   "id": "f5e5b714-d47b-4985-ae8e-bee4fd3b1e5c",
   "metadata": {},
   "outputs": [],
   "source": [
    "teams = rest_teamsandcoins(url)\n",
    "names = list(teams.keys())\n",
    "coins = list(teams.values())\n",
    "\n",
    "print(names[names.index(ourteam)],': ',coins[names.index(ourteam)])"
   ]
  },
  {
   "cell_type": "markdown",
   "id": "37527802",
   "metadata": {},
   "source": [
    "### 4.1.2 What is the maximum number of transactions one given team can add to the Block Chain in one day? "
   ]
  },
  {
   "cell_type": "code",
   "execution_count": null,
   "id": "e72537fe",
   "metadata": {},
   "outputs": [],
   "source": []
  },
  {
   "cell_type": "markdown",
   "id": "a8a8e41c",
   "metadata": {},
   "source": [
    "### 4.2 The server has a function to compute a hash of a block in the Block Chain: \n",
    "<img src=\"https://i.ibb.co/Lnr32nS/Screenshot-at-2021-06-02-21-01-28.png\" width=\"800\" height=\"600\"/>"
   ]
  },
  {
   "cell_type": "markdown",
   "id": "99d0b2db",
   "metadata": {},
   "source": [
    "### 4.2.1 Explain what this function does and why is this ‘the key’ for Block Chain technology? "
   ]
  },
  {
   "cell_type": "markdown",
   "id": "9f156885",
   "metadata": {},
   "source": [
    "### 4.2.2 If you have the knowledge of the hash function, how can you validate the contents of the Block Chain you received using a GET request to make sure, nobody has tampered with it? You don’t need to implement it! Explain the algorithm to validate a Block Chain!"
   ]
  },
  {
   "cell_type": "markdown",
   "id": "7f904de1",
   "metadata": {},
   "source": [
    "### 4.2.3 Why might the GET REST API run into scalability problems? \n",
    "Express the scalability behaviour of execution times of GET and POST requests in Big O notation in relation to the number of transactions recorded in the Block Chain! Draw execution time vs transactions for GET and POST requests. "
   ]
  },
  {
   "cell_type": "markdown",
   "id": "46df430b",
   "metadata": {},
   "source": [
    "### 4.2.4 If the Crypto server goes down, the way it is implemented it loses the current account balances. How can the server recompute the account balances after a restart from the saved Block Chain? "
   ]
  },
  {
   "cell_type": "markdown",
   "id": "19840ac2",
   "metadata": {},
   "source": [
    "### 4.2.5 What are the advantages of using a REST API and JSON in a client-server architecture? What are possible disadvantages? "
   ]
  },
  {
   "cell_type": "code",
   "execution_count": null,
   "id": "b997c9f5",
   "metadata": {},
   "outputs": [],
   "source": []
  }
 ],
 "metadata": {
  "interpreter": {
   "hash": "31f2aee4e71d21fbe5cf8b01ff0e069b9275f58929596ceb00d14d90e3e16cd6"
  },
  "kernelspec": {
   "display_name": "Python 3",
   "language": "python",
   "name": "python3"
  },
  "language_info": {
   "codemirror_mode": {
    "name": "ipython",
    "version": 3
   },
   "file_extension": ".py",
   "mimetype": "text/x-python",
   "name": "python",
   "nbconvert_exporter": "python",
   "pygments_lexer": "ipython3",
   "version": "3.8.8"
  }
 },
 "nbformat": 4,
 "nbformat_minor": 5
}
